{
 "cells": [
  {
   "cell_type": "markdown",
   "metadata": {},
   "source": [
    "# DICOM RT Tool Tutorial with Open-Access Data\n",
    "\n",
    "This notebook demonstrates the various functions and utilities available in the Dicom RT tool Python package (https://github.com/brianmanderson/Dicom_RT_and_Images_to_Mask) by Anderson et. al. It serves as supplementary information for the Technical Paper titled: <em>\"Simple Python Module for Conversions between DICOM Images and Radiation Therapy Structures, Masks, and Prediction Arrays\" </em>. This notebook works through an example of publicly available brain tumor data of T1-w/FLAIR MRI sequences and corresponding RT structure files with multiple segmented regions of interest. Full information of the publicly available brain tumor data used in this notebook can be found at: https://figshare.com/articles/dataset/Data_from_An_Investigation_of_Machine_Learning_Methods_in_Delta-radiomics_Feature_Analysis/9943334. This notebook was written for easy accessibility for beginners to Python programming, medical imaging, and computational analysis. It should take no more than 10-15 minutes to run in it's entirety from scratch. The notebook generates about 10 GB worth of files, so ensure you have adequate space to run it. \n",
    "\n",
    "The notebook covers the following topics (click to go to section):\n",
    "1. [Getting the data](#DATA)\n",
    "2. [Reading in DICOM and RT struct files and converting to numpy array format](#DICOM)\n",
    "3. [Saving arrays to nifti format and reloading them](#NIFTI)\n",
    "4. [Saving and loading numpy array files](#NUMPY)\n",
    "5. [Calculating radiomic features](#RADIOMICS)\n",
    "6. [Predictions To RT-Structure Example](#RTSTRUCTURE)\n",
    "\n",
    "The notebook assumes you have the following nested directory structure after running cells that download necessary data:"
   ]
  },
  {
   "cell_type": "code",
   "execution_count": null,
   "metadata": {},
   "outputs": [],
   "source": [
    "\"\"\"\n",
    "Top-level directory/\n",
    "├── DICOMRTTool_manuscript.ipynb\n",
    "├── Example_Data/ <- Generated when you run the cells below\n",
    "|   ├── Image_Data/ \n",
    "|       ├── Structure/ <- These correspond to the Pre-RT scans\n",
    "│           ├── T1/\n",
    "|               ├── Patient number/\n",
    "|                   ├── RT Struc file (.dcm) \n",
    "│           ├── T2FLAIR/\n",
    "|               ├── Patient number/\n",
    "|                   ├── RT Struc file (.dcm)\n",
    "|       ├── T1/\n",
    "|           ├── Post1/\n",
    "|               ├── Patient number/\n",
    "|                   ├── DICOM image files (.dcm)\n",
    "|           ├── Post2/\n",
    "|               ├── Patient number/\n",
    "|                   ├── DICOM image files (.dcm)\n",
    "|           ├── Pre/\n",
    "|               ├── Patient number/\n",
    "|                   ├── DICOM image files (.dcm) <- The images we care about\n",
    "|       ├── T2FLAIR/\n",
    "|           ├── Post1/\n",
    "|               ├── Patient number/\n",
    "|                   ├── DICOM image files (.dcm)\n",
    "|           ├── Post2/\n",
    "|               ├── Patient number/\n",
    "|                   ├── DICOM image files (.dcm)\n",
    "|           ├── Pre/\n",
    "|               ├── Patient number/\n",
    "|                   ├── DICOM image files (.dcm) <- The images we care about\n",
    "├── Data.zip <- Generated when you run the cells below, downloaded Figshare file\n",
    "├── Nifti_Data/ <- Generated when you run the cells below\n",
    "|   ├──Image.nii\n",
    "|   ├──Mask.nii\n",
    "|   ├──MRN_Path_To_Iteration.xlsx\n",
    "|   ├──Overall_Data_Examples_(iteration)0.nii.gz \n",
    "|   ├──Overall_mask_Examples_y(iteration)0.nii.gz \n",
    "├── Numpy_Data/ <- Generated when you run the cells below\n",
    "|   ├──image.npy\n",
    "|   ├──mask.npy\n",
    "├── RT_Structures/ <- Generated when you run the cells below\n",
    "|   ├──RS_Test_UID.dcm\n",
    "\"\"\""
   ]
  },
  {
   "cell_type": "code",
   "execution_count": 4,
   "metadata": {
    "scrolled": true
   },
   "outputs": [
    {
     "name": "stdout",
     "output_type": "stream",
     "text": [
      "Requirement already satisfied: DicomRTTool in /Users/cxl037/PycharmProjects/pythonProject1/venv/lib/python3.9/site-packages (0.4.2)\n",
      "Requirement already satisfied: numpy in /Users/cxl037/PycharmProjects/pythonProject1/venv/lib/python3.9/site-packages (from DicomRTTool) (1.22.2)\n",
      "Requirement already satisfied: matplotlib in /Users/cxl037/PycharmProjects/pythonProject1/venv/lib/python3.9/site-packages (from DicomRTTool) (3.5.1)\n",
      "Requirement already satisfied: pydicom in /Users/cxl037/PycharmProjects/pythonProject1/venv/lib/python3.9/site-packages (from DicomRTTool) (2.2.2)\n",
      "Requirement already satisfied: SimpleITK in /Users/cxl037/PycharmProjects/pythonProject1/venv/lib/python3.9/site-packages (from DicomRTTool) (2.1.1)\n",
      "Requirement already satisfied: six in /Users/cxl037/PycharmProjects/pythonProject1/venv/lib/python3.9/site-packages (from DicomRTTool) (1.16.0)\n",
      "Requirement already satisfied: pandas in /Users/cxl037/PycharmProjects/pythonProject1/venv/lib/python3.9/site-packages (from DicomRTTool) (1.4.1)\n",
      "Requirement already satisfied: scikit-image in /Users/cxl037/PycharmProjects/pythonProject1/venv/lib/python3.9/site-packages (from DicomRTTool) (0.19.1)\n",
      "Requirement already satisfied: tqdm in /Users/cxl037/PycharmProjects/pythonProject1/venv/lib/python3.9/site-packages (from DicomRTTool) (4.62.3)\n",
      "Requirement already satisfied: xlrd in /Users/cxl037/PycharmProjects/pythonProject1/venv/lib/python3.9/site-packages (from DicomRTTool) (2.0.1)\n",
      "Requirement already satisfied: openpyxl in /Users/cxl037/PycharmProjects/pythonProject1/venv/lib/python3.9/site-packages (from DicomRTTool) (3.0.9)\n",
      "Requirement already satisfied: Pillow in /Users/cxl037/PycharmProjects/pythonProject1/venv/lib/python3.9/site-packages (from DicomRTTool) (9.0.1)\n",
      "Requirement already satisfied: check-manifest in /Users/cxl037/PycharmProjects/pythonProject1/venv/lib/python3.9/site-packages (from DicomRTTool) (0.47)\n",
      "Requirement already satisfied: opencv-python>=4.2.0.32 in /Users/cxl037/PycharmProjects/pythonProject1/venv/lib/python3.9/site-packages (from DicomRTTool) (4.5.5.62)\n",
      "Requirement already satisfied: scipy in /Users/cxl037/PycharmProjects/pythonProject1/venv/lib/python3.9/site-packages (from DicomRTTool) (1.8.0)\n",
      "Requirement already satisfied: setuptools in /Users/cxl037/PycharmProjects/pythonProject1/venv/lib/python3.9/site-packages (from check-manifest->DicomRTTool) (57.0.0)\n",
      "Requirement already satisfied: build>=0.1 in /Users/cxl037/PycharmProjects/pythonProject1/venv/lib/python3.9/site-packages (from check-manifest->DicomRTTool) (0.7.0)\n",
      "Requirement already satisfied: toml in /Users/cxl037/PycharmProjects/pythonProject1/venv/lib/python3.9/site-packages (from check-manifest->DicomRTTool) (0.10.2)\n",
      "Requirement already satisfied: tomli>=1.0.0 in /Users/cxl037/PycharmProjects/pythonProject1/venv/lib/python3.9/site-packages (from build>=0.1->check-manifest->DicomRTTool) (2.0.1)\n",
      "Requirement already satisfied: pep517>=0.9.1 in /Users/cxl037/PycharmProjects/pythonProject1/venv/lib/python3.9/site-packages (from build>=0.1->check-manifest->DicomRTTool) (0.12.0)\n",
      "Requirement already satisfied: packaging>=19.0 in /Users/cxl037/PycharmProjects/pythonProject1/venv/lib/python3.9/site-packages (from build>=0.1->check-manifest->DicomRTTool) (21.3)\n",
      "Requirement already satisfied: pyparsing!=3.0.5,>=2.0.2 in /Users/cxl037/PycharmProjects/pythonProject1/venv/lib/python3.9/site-packages (from packaging>=19.0->build>=0.1->check-manifest->DicomRTTool) (3.0.7)\n",
      "Requirement already satisfied: python-dateutil>=2.7 in /Users/cxl037/PycharmProjects/pythonProject1/venv/lib/python3.9/site-packages (from matplotlib->DicomRTTool) (2.8.2)\n",
      "Requirement already satisfied: cycler>=0.10 in /Users/cxl037/PycharmProjects/pythonProject1/venv/lib/python3.9/site-packages (from matplotlib->DicomRTTool) (0.11.0)\n",
      "Requirement already satisfied: kiwisolver>=1.0.1 in /Users/cxl037/PycharmProjects/pythonProject1/venv/lib/python3.9/site-packages (from matplotlib->DicomRTTool) (1.3.2)\n",
      "Requirement already satisfied: fonttools>=4.22.0 in /Users/cxl037/PycharmProjects/pythonProject1/venv/lib/python3.9/site-packages (from matplotlib->DicomRTTool) (4.29.1)\n",
      "Requirement already satisfied: et-xmlfile in /Users/cxl037/PycharmProjects/pythonProject1/venv/lib/python3.9/site-packages (from openpyxl->DicomRTTool) (1.1.0)\n",
      "Requirement already satisfied: pytz>=2020.1 in /Users/cxl037/PycharmProjects/pythonProject1/venv/lib/python3.9/site-packages (from pandas->DicomRTTool) (2021.3)\n",
      "Requirement already satisfied: PyWavelets>=1.1.1 in /Users/cxl037/PycharmProjects/pythonProject1/venv/lib/python3.9/site-packages (from scikit-image->DicomRTTool) (1.2.0)\n",
      "Requirement already satisfied: imageio>=2.4.1 in /Users/cxl037/PycharmProjects/pythonProject1/venv/lib/python3.9/site-packages (from scikit-image->DicomRTTool) (2.16.0)\n",
      "Requirement already satisfied: tifffile>=2019.7.26 in /Users/cxl037/PycharmProjects/pythonProject1/venv/lib/python3.9/site-packages (from scikit-image->DicomRTTool) (2022.2.9)\n",
      "Requirement already satisfied: networkx>=2.2 in /Users/cxl037/PycharmProjects/pythonProject1/venv/lib/python3.9/site-packages (from scikit-image->DicomRTTool) (2.6.3)\n",
      "\u001b[33mWARNING: You are using pip version 21.1.2; however, version 22.0.4 is available.\n",
      "You should consider upgrading via the '/Users/cxl037/PycharmProjects/pythonProject1/venv/bin/python -m pip install --upgrade pip' command.\u001b[0m\n",
      "Requirement already satisfied: flywheel-sdk in /Users/cxl037/PycharmProjects/pythonProject1/venv/lib/python3.9/site-packages (15.8.0)\n",
      "Requirement already satisfied: six>=1.10 in /Users/cxl037/PycharmProjects/pythonProject1/venv/lib/python3.9/site-packages (from flywheel-sdk) (1.16.0)\n",
      "Requirement already satisfied: python-dateutil in /Users/cxl037/PycharmProjects/pythonProject1/venv/lib/python3.9/site-packages (from flywheel-sdk) (2.8.2)\n",
      "Requirement already satisfied: urllib3>=1.15 in /Users/cxl037/PycharmProjects/pythonProject1/venv/lib/python3.9/site-packages (from flywheel-sdk) (1.26.8)\n",
      "Requirement already satisfied: requests>=2.18.4 in /Users/cxl037/PycharmProjects/pythonProject1/venv/lib/python3.9/site-packages (from flywheel-sdk) (2.27.1)\n",
      "Requirement already satisfied: requests-toolbelt in /Users/cxl037/PycharmProjects/pythonProject1/venv/lib/python3.9/site-packages (from flywheel-sdk) (0.9.1)\n",
      "Requirement already satisfied: certifi in /Users/cxl037/PycharmProjects/pythonProject1/venv/lib/python3.9/site-packages (from flywheel-sdk) (2021.10.8)\n",
      "Requirement already satisfied: idna<4,>=2.5 in /Users/cxl037/PycharmProjects/pythonProject1/venv/lib/python3.9/site-packages (from requests>=2.18.4->flywheel-sdk) (3.3)\n",
      "Requirement already satisfied: charset-normalizer~=2.0.0 in /Users/cxl037/PycharmProjects/pythonProject1/venv/lib/python3.9/site-packages (from requests>=2.18.4->flywheel-sdk) (2.0.12)\n",
      "\u001b[33mWARNING: You are using pip version 21.1.2; however, version 22.0.4 is available.\n",
      "You should consider upgrading via the '/Users/cxl037/PycharmProjects/pythonProject1/venv/bin/python -m pip install --upgrade pip' command.\u001b[0m\n"
     ]
    }
   ],
   "source": [
    "# Load or install the program, %%capture supresses print statements\n",
    "!pip install DicomRTTool --upgrade\n",
    "!pip install flywheel-sdk \n",
    "from DicomRTTool.ReaderWriter import DicomReaderWriter\n",
    "import flywheel"
   ]
  },
  {
   "cell_type": "code",
   "execution_count": 8,
   "metadata": {},
   "outputs": [],
   "source": [
    "# importing neccessary libraries \n",
    "\n",
    "# file mangagment \n",
    "import os \n",
    "import zipfile\n",
    "from six.moves import urllib\n",
    "\n",
    "# array manipulation and plotting\n",
    "import numpy as np\n",
    "import pandas as pd\n",
    "import matplotlib.pyplot as plt\n",
    "\n",
    "# medical image manipulation \n",
    "import SimpleITK as sitk\n",
    "import shutil"
   ]
  },
  {
   "cell_type": "code",
   "execution_count": 6,
   "metadata": {},
   "outputs": [
    {
     "name": "stderr",
     "output_type": "stream",
     "text": [
      "/Users/cxl037/PycharmProjects/pythonProject1/venv/lib/python3.9/site-packages/flywheel/flywheel.py:6300: UserWarning: Client version 15.8.0 does not match server version 16.3.2. Please update your client version!\n",
      "  warnings.warn('Client version {} does not match server version {}. Please update your client version!'.format(SDK_VERSION, release_version))\n",
      "WARNING:Flywheel:Use \"pip install flywheel-sdk~=16.3.4\" to install a compatible version for this server\n"
     ]
    }
   ],
   "source": [
    "fw = flywheel.Client('flywheel.uwhealth.org:0tfO3O6KmTcoy0fVxM')\n",
    "FW_GROUP = 'baschnagelgroup'\n",
    "FW_PROJECT = 'SRS Necrosis Project'\n",
    "image_path = '/Users/cxl037/PycharmProjects/pythonProject1/Example_Data/Image_Data'\n",
    "if not os.path.isdir(image_path):\n",
    "    os.mkdir(image_path)\n",
    "fw_group = fw.lookup( FW_GROUP )\n",
    "fw_project = fw_group.projects.find_first('label={}'.format(FW_PROJECT))\n",
    "fw_subjects = fw_project.subjects.iter()\n",
    "# print([subject.label for subject in fw_subjects])\n",
    "# fw_subject = fw_project.subjects.find_first('label=\"{}\"'.format('1244948'))\n",
    "# print(fw_subject)"
   ]
  },
  {
   "cell_type": "code",
   "execution_count": null,
   "metadata": {},
   "outputs": [],
   "source": [
    "!pip install --default-timeout=100 future"
   ]
  },
  {
   "cell_type": "code",
   "execution_count": null,
   "metadata": {},
   "outputs": [],
   "source": [
    "!pip install \"requests[security]\""
   ]
  },
  {
   "cell_type": "code",
   "execution_count": null,
   "metadata": {},
   "outputs": [],
   "source": [
    "!pip install antspyx"
   ]
  },
  {
   "cell_type": "code",
   "execution_count": null,
   "metadata": {},
   "outputs": [],
   "source": [
    "\n",
    "for fw_subject in fw_subjects:\n",
    "    if not fw_subject.label.isnumeric():\n",
    "        continue\n",
    "    subject_path = os.path.join(image_path, fw_subject.label)\n",
    "    if not os.path.isdir(subject_path):\n",
    "        os.mkdir(subject_path)\n",
    "    for sess in fw_subject.sessions.iter():\n",
    "        session_path = os.path.join(subject_path, sess.label)\n",
    "        if not os.path.isdir(session_path):\n",
    "            os.mkdir(session_path)\n",
    "        for acq in sess.acquisitions.iter():\n",
    "            acq_path = os.path.join(session_path, acq.label)\n",
    "            #for f in acq.files:\n",
    "                #if f.type=='dicom':\n",
    "#                     filepath = '/Users/cxl037/PycharmProjects/pythonProject1/Example_Data/flywheel/{}_{}'.format(fw_subject.label,f.name)\n",
    "#                     if not os.path.exists(filepath):\n",
    "#                         acq.download_file(f.name, filepath)\n",
    "#                     z = zipfile.ZipFile(filepath)\n",
    "#                     z.extractall(acq_path)\n",
    "    fw_subject = fw_subject.reload()\n",
    "            "
   ]
  },
  {
   "cell_type": "markdown",
   "metadata": {},
   "source": [
    "## Part 1: Getting the data. <a name=\"DATA\"></a>"
   ]
  },
  {
   "cell_type": "markdown",
   "metadata": {},
   "source": [
    "The RT struc files and their corresponding DICOM images can be in the same directory or different directories. Here we show a case where structure files and images are located in different directories. This is a good dataset to work with since its somewhat messy but coherent enough to show power of DICOMRTTool. Many files (pre-RT, post-RT at 2 timepoints) but only pre-RT T1 and FLAIR images have associated RT structure files. Downloading and unzipping the necessary files will take about 10 minutes on most CPUs and takes up about 8 GB of storage. One may visualize these DICOM images using a free commercially available DICOM viewer, such as Radiant (https://www.radiantviewer.com/)."
   ]
  },
  {
   "cell_type": "code",
   "execution_count": null,
   "metadata": {},
   "outputs": [],
   "source": [
    "img_path = \"/Users/cxl037/PycharmProjects/pythonProject1/Example_Data/flywheel_20220217_060337.tar\"\n",
    "output_path = r'/Users/cxl037/PycharmProjects/pythonProject1/Example_Data'"
   ]
  },
  {
   "cell_type": "code",
   "execution_count": null,
   "metadata": {},
   "outputs": [],
   "source": [
    "for subdir, dirs, files in os.walk(os.path.join(output_path, 'flywheel')):\n",
    "    for file in files:\n",
    "        filepath = subdir + os.sep + file\n",
    "        if filepath.endswith('.zip'):\n",
    "            z = zipfile.ZipFile(filepath)\n",
    "            z.extractall('/Users/cxl037/PycharmProjects/pythonProject1/Example_Data/Image_Data')\n",
    "            "
   ]
  },
  {
   "cell_type": "code",
   "execution_count": null,
   "metadata": {},
   "outputs": [],
   "source": [
    "def display_slices(image, mask, skip=1):\n",
    "    \"\"\"\n",
    "    Displays a series of slices in z-direction that contains the segmented regions of interest.\n",
    "    Ensures all contours are displayed in consistent and different colors.\n",
    "        Parameters:\n",
    "            image (array-like): Numpy array of image.\n",
    "            mask (array-like): Numpy array of mask.\n",
    "            skip (int): Only print every nth slice, i.e. if 3 only print every 3rd slice, default 1.\n",
    "        Returns:\n",
    "            None (series of in-line plots).\n",
    "    \"\"\"\n",
    "\n",
    "    slice_locations = np.unique(np.where(mask != 0)[0]) # get indexes for where there is a contour present \n",
    "    slice_start = slice_locations[0] # first slice of contour \n",
    "    slice_end = slice_locations[len(slice_locations)-1] # last slice of contour\n",
    "    \n",
    "    counter = 1\n",
    "    \n",
    "    for img_arr, contour_arr in zip(image[slice_start:slice_end+1], mask[slice_start:slice_end+1]): # plot the slices with contours overlayed ontop\n",
    "        if counter % skip == 0: # if current slice is divisible by desired skip amount \n",
    "            masked_contour_arr = np.ma.masked_where(contour_arr == 0, contour_arr)\n",
    "            plt.imshow(img_arr, cmap='gray', interpolation='none')\n",
    "            plt.imshow(masked_contour_arr, cmap='cool', interpolation='none', alpha=0.5, vmin = 1, vmax = np.amax(mask)) # vmax is set as total number of contours so same colors can be displayed for each slice\n",
    "            plt.show()\n",
    "        counter += 1"
   ]
  },
  {
   "cell_type": "markdown",
   "metadata": {},
   "source": [
    "## Part 2: Reading in DICOM and RT struct files and converting to numpy array format. <a name=\"DICOM\"></a>\n",
    "\n",
    "The principal on which this set of tools operates on is based on the DicomReaderWriter object. It is instantiated with the contours of interest (and associations) and can then be used to create numpy arrays of images and masks of the format [slices, width, height].\n",
    "\n",
    "\n",
    "The following code logic is used to demonstrate searching a path and returning indices for matched structures and images (by UID) for arbitrary directory structures (DICOM image files and RT Struct files not in the same folder). If all necessary structure files are in the same folder as the corresponding images (by UID), one can alternatively use an os.walk through directories of interest and call DicomReaderWriter each time a folder is discovered. For example, I normally use a folder structure MRN -> date of image (pre,mid,post-RT) -> type of scan (MRI, CT, etc.) -> files (DICOM images + RT Struct). However, this approach calls the DicomReaderWriter iteratively, which can be computationally taxing."
   ]
  },
  {
   "cell_type": "code",
   "execution_count": 48,
   "metadata": {},
   "outputs": [
    {
     "name": "stdout",
     "output_type": "stream",
     "text": [
      "/Users/cxl037/PycharmProjects/pythonProject1/Example_Data/Image_Data/1766382/2020-07-23 11_37_42\n"
     ]
    }
   ],
   "source": [
    "DICOM_path = '/Users/cxl037/PycharmProjects/pythonProject1/Example_Data/Image_Data/1766382/2020-07-23 11_37_42' # folder where downloaded data was stored\n",
    "print(DICOM_path)"
   ]
  },
  {
   "cell_type": "code",
   "execution_count": 10,
   "metadata": {},
   "outputs": [],
   "source": [
    "for subject in os.listdir(image_path):\n",
    "    if subject != '.DS_Store':\n",
    "        subject_path = os.path.join(image_path, subject)\n",
    "    # iterate through each session in the subject\n",
    "    for session in os.listdir(subject_path):\n",
    "        if session != '.DS_Store':\n",
    "            session_path = os.path.join(subject_path, session)\n",
    "        for file in os.listdir(session_path):\n",
    "            if \"ADC (10^-6 mm²_s)\" in file:\n",
    "                print(file)\n",
    "                shutil.rmtree(os.path.join(session_path, file))"
   ]
  },
  {
   "cell_type": "markdown",
   "metadata": {},
   "source": [
    "This will walk through all of the folders, and using SimpleITK, will separate them based on SeriesInstanceUIDs."
   ]
  },
  {
   "cell_type": "code",
   "execution_count": 49,
   "metadata": {
    "scrolled": false
   },
   "outputs": [
    {
     "name": "stdout",
     "output_type": "stream",
     "text": [
      "Estimated 30 seconds, depending on number of cores present in your computer\n"
     ]
    },
    {
     "name": "stderr",
     "output_type": "stream",
     "text": [
      "\r",
      "Loading through DICOM files:   0%|                                                                                                                      | 0/26 [00:00<?, ?it/s]"
     ]
    },
    {
     "name": "stdout",
     "output_type": "stream",
     "text": [
      "Loading from /Users/cxl037/PycharmProjects/pythonProject1/Example_Data/Image_Data/1766382/2020-07-23 11_37_42/11 - +c COR T1 CUBE VASCLoading from /Users/cxl037/PycharmProjects/pythonProject1/Example_Data/Image_Data/1766382/2020-07-23 11_37_42/802 - rCBV (corrected)(color)Loading from /Users/cxl037/PycharmProjects/pythonProject1/Example_Data/Image_Data/1766382/2020-07-23 11_37_42/951 - +C AX FLAIR reformatLoading from /Users/cxl037/PycharmProjects/pythonProject1/Example_Data/Image_Data/1766382/2020-07-23 11_37_42/812 - rCBV (corrected)Loading from /Users/cxl037/PycharmProjects/pythonProject1/Example_Data/Image_Data/1766382/2020-07-23 11_37_42/803 - CBF (color)Loading from /Users/cxl037/PycharmProjects/pythonProject1/Example_Data/Image_Data/1766382/2020-07-23 11_37_42/5 - Ax T2starmpgre\n",
      "\n",
      "\n",
      "\n",
      "\n",
      "\n"
     ]
    },
    {
     "name": "stderr",
     "output_type": "stream",
     "text": [
      "Loading through DICOM files:  27%|█████████████████████████████▌                                                                                | 7/26 [00:00<00:01, 18.73it/s]"
     ]
    },
    {
     "name": "stdout",
     "output_type": "stream",
     "text": [
      "Loading from /Users/cxl037/PycharmProjects/pythonProject1/Example_Data/Image_Data/1766382/2020-07-23 11_37_42/1050 - +c SAG STEALTH Reformat\n",
      "Loading from /Users/cxl037/PycharmProjects/pythonProject1/Example_Data/Image_Data/1766382/2020-07-23 11_37_42/1 - 3-Plane Loc SSFSE\n",
      "Loading from /Users/cxl037/PycharmProjects/pythonProject1/Example_Data/Image_Data/1766382/2020-07-23 11_37_42/4 - Ax T2 PROPELLER fat\n",
      "Loading from /Users/cxl037/PycharmProjects/pythonProject1/Example_Data/Image_Data/1766382/2020-07-23 11_37_42/1 - Necrosis Project/Turner^Nelson/RTSTRUCT/20200723/1\n",
      "Loading from /Users/cxl037/PycharmProjects/pythonProject1/Example_Data/Image_Data/1766382/2020-07-23 11_37_42/806 - K2 (color)\n",
      "Loading from /Users/cxl037/PycharmProjects/pythonProject1/Example_Data/Image_Data/1766382/2020-07-23 11_37_42/804 - FMT (color)\n",
      "Loading from /Users/cxl037/PycharmProjects/pythonProject1/Example_Data/Image_Data/1766382/2020-07-23 11_37_42/805 - Tmax (color)\n"
     ]
    },
    {
     "name": "stderr",
     "output_type": "stream",
     "text": [
      "\r",
      "Loading through DICOM files:  38%|█████████████████████████████████████████▉                                                                   | 10/26 [00:00<00:00, 19.39it/s]"
     ]
    },
    {
     "name": "stdout",
     "output_type": "stream",
     "text": [
      "Loading from /Users/cxl037/PycharmProjects/pythonProject1/Example_Data/Image_Data/1766382/2020-07-23 11_37_42/800 - Baseline\n",
      "Loading from /Users/cxl037/PycharmProjects/pythonProject1/Example_Data/Image_Data/1766382/2020-07-23 11_37_42/3 - Ax DWI b1000\n",
      "Loading from /Users/cxl037/PycharmProjects/pythonProject1/Example_Data/Image_Data/1766382/2020-07-23 11_37_42/8 - TUMOR-Ax PERFUSION\n",
      "Loading from /Users/cxl037/PycharmProjects/pythonProject1/Example_Data/Image_Data/1766382/2020-07-23 11_37_42/950 - +C COR FLAIR reformat\n"
     ]
    },
    {
     "name": "stderr",
     "output_type": "stream",
     "text": [
      "\r",
      "Loading through DICOM files:  50%|██████████████████████████████████████████████████████▌                                                      | 13/26 [00:00<00:00, 17.26it/s]"
     ]
    },
    {
     "name": "stdout",
     "output_type": "stream",
     "text": [
      "Loading from /Users/cxl037/PycharmProjects/pythonProject1/Example_Data/Image_Data/1766382/2020-07-23 11_37_42/6 - Ax T1 Bravo 2.4mm\n",
      "Loading from /Users/cxl037/PycharmProjects/pythonProject1/Example_Data/Image_Data/1766382/2020-07-23 11_37_42/21 - 1.2.840.113711.808.22.4540.663025726.26.1373924172.761311\n",
      "Loading from /Users/cxl037/PycharmProjects/pythonProject1/Example_Data/Image_Data/1766382/2020-07-23 11_37_42/1150 - +C AX T1 Vasc REFORMAT 1.4\n",
      "Loading from /Users/cxl037/PycharmProjects/pythonProject1/Example_Data/Image_Data/1766382/2020-07-23 11_37_42/7 - NeuroQuant Sag 3d\n"
     ]
    },
    {
     "name": "stderr",
     "output_type": "stream",
     "text": [
      "Loading through DICOM files:  69%|███████████████████████████████████████████████████████████████████████████▍                                 | 18/26 [00:01<00:00, 11.90it/s]"
     ]
    },
    {
     "name": "stdout",
     "output_type": "stream",
     "text": [
      "Loading from /Users/cxl037/PycharmProjects/pythonProject1/Example_Data/Image_Data/1766382/2020-07-23 11_37_42/799 - Perfusion ROIs\n",
      "Loading from /Users/cxl037/PycharmProjects/pythonProject1/Example_Data/Image_Data/1766382/2020-07-23 11_37_42/816 - K2\n",
      "Loading from /Users/cxl037/PycharmProjects/pythonProject1/Example_Data/Image_Data/1766382/2020-07-23 11_37_42/10 - +c Ax T1 Stealth Bravo/Turner^Nelson/MR/20200723/10\n",
      "Loading from /Users/cxl037/PycharmProjects/pythonProject1/Example_Data/Image_Data/1766382/2020-07-23 11_37_42/2 - Sag T1 FLAIR\n",
      "Loading from /Users/cxl037/PycharmProjects/pythonProject1/Example_Data/Image_Data/1766382/2020-07-23 11_37_42/9 - +c Sag T2 FLAIR Cube\n"
     ]
    },
    {
     "name": "stderr",
     "output_type": "stream",
     "text": [
      "Loading through DICOM files: 100%|█████████████████████████████████████████████████████████████████████████████████████████████████████████████| 26/26 [00:04<00:00,  6.45it/s]"
     ]
    },
    {
     "name": "stdout",
     "output_type": "stream",
     "text": [
      "Compiling dictionaries together...\n",
      "Index 0, description Perfusion ROIs at /Users/cxl037/PycharmProjects/pythonProject1/Example_Data/Image_Data/1766382/2020-07-23 11_37_42/799 - Perfusion ROIs\n",
      "Index 1, description CBF (color)  at /Users/cxl037/PycharmProjects/pythonProject1/Example_Data/Image_Data/1766382/2020-07-23 11_37_42/803 - CBF (color)\n",
      "Index 2, description Tmax (color) at /Users/cxl037/PycharmProjects/pythonProject1/Example_Data/Image_Data/1766382/2020-07-23 11_37_42/805 - Tmax (color)\n",
      "Index 3, description rCBV (corrected) at /Users/cxl037/PycharmProjects/pythonProject1/Example_Data/Image_Data/1766382/2020-07-23 11_37_42/812 - rCBV (corrected)\n",
      "Index 4, description rCBV (corrected)(color)  at /Users/cxl037/PycharmProjects/pythonProject1/Example_Data/Image_Data/1766382/2020-07-23 11_37_42/802 - rCBV (corrected)(color)\n",
      "Index 5, description K2 at /Users/cxl037/PycharmProjects/pythonProject1/Example_Data/Image_Data/1766382/2020-07-23 11_37_42/816 - K2\n",
      "Index 6, description K2 (color) at /Users/cxl037/PycharmProjects/pythonProject1/Example_Data/Image_Data/1766382/2020-07-23 11_37_42/806 - K2 (color)\n",
      "Index 7, description Baseline at /Users/cxl037/PycharmProjects/pythonProject1/Example_Data/Image_Data/1766382/2020-07-23 11_37_42/800 - Baseline\n",
      "Index 8, description FMT (color)  at /Users/cxl037/PycharmProjects/pythonProject1/Example_Data/Image_Data/1766382/2020-07-23 11_37_42/804 - FMT (color)\n",
      "Index 9, description 3-Plane Loc SSFSE  at /Users/cxl037/PycharmProjects/pythonProject1/Example_Data/Image_Data/1766382/2020-07-23 11_37_42/1 - 3-Plane Loc SSFSE\n",
      "Index 10, description Sag T1 FLAIR at /Users/cxl037/PycharmProjects/pythonProject1/Example_Data/Image_Data/1766382/2020-07-23 11_37_42/2 - Sag T1 FLAIR\n",
      "Index 11, description Ax DWI b1000 at /Users/cxl037/PycharmProjects/pythonProject1/Example_Data/Image_Data/1766382/2020-07-23 11_37_42/3 - Ax DWI b1000\n",
      "Index 12, description Ax T2 PROPELLER fat  at /Users/cxl037/PycharmProjects/pythonProject1/Example_Data/Image_Data/1766382/2020-07-23 11_37_42/4 - Ax T2 PROPELLER fat\n",
      "Index 13, description Ax T2*mpgre  at /Users/cxl037/PycharmProjects/pythonProject1/Example_Data/Image_Data/1766382/2020-07-23 11_37_42/5 - Ax T2starmpgre\n",
      "Index 14, description Ax T1 Bravo 2.4mm  at /Users/cxl037/PycharmProjects/pythonProject1/Example_Data/Image_Data/1766382/2020-07-23 11_37_42/6 - Ax T1 Bravo 2.4mm\n",
      "Index 15, description NeuroQuant Sag 3d  at /Users/cxl037/PycharmProjects/pythonProject1/Example_Data/Image_Data/1766382/2020-07-23 11_37_42/7 - NeuroQuant Sag 3d\n",
      "Index 16, description TUMOR-Ax PERFUSION at /Users/cxl037/PycharmProjects/pythonProject1/Example_Data/Image_Data/1766382/2020-07-23 11_37_42/8 - TUMOR-Ax PERFUSION\n",
      "Index 17, description +c Sag T2 FLAIR Cube at /Users/cxl037/PycharmProjects/pythonProject1/Example_Data/Image_Data/1766382/2020-07-23 11_37_42/9 - +c Sag T2 FLAIR Cube\n",
      "Index 18, description +c Ax T1 Stealth Bravo at /Users/cxl037/PycharmProjects/pythonProject1/Example_Data/Image_Data/1766382/2020-07-23 11_37_42/10 - +c Ax T1 Stealth Bravo/Turner^Nelson/MR/20200723/10\n",
      "Index 19, description +c COR T1 CUBE VASC  at /Users/cxl037/PycharmProjects/pythonProject1/Example_Data/Image_Data/1766382/2020-07-23 11_37_42/11 - +c COR T1 CUBE VASC\n",
      "Index 20, description +C COR FLAIR reformat  at /Users/cxl037/PycharmProjects/pythonProject1/Example_Data/Image_Data/1766382/2020-07-23 11_37_42/950 - +C COR FLAIR reformat\n",
      "Index 21, description +C AX FLAIR reformat at /Users/cxl037/PycharmProjects/pythonProject1/Example_Data/Image_Data/1766382/2020-07-23 11_37_42/951 - +C AX FLAIR reformat\n",
      "Index 22, description +c SAG STEALTH Reformat  at /Users/cxl037/PycharmProjects/pythonProject1/Example_Data/Image_Data/1766382/2020-07-23 11_37_42/1050 - +c SAG STEALTH Reformat\n",
      "Index 23, description +C AX T1 Vasc REFORMAT 1.4 at /Users/cxl037/PycharmProjects/pythonProject1/Example_Data/Image_Data/1766382/2020-07-23 11_37_42/1150 - +C AX T1 Vasc REFORMAT 1.4\n",
      "24 unique series IDs were found. Default is index 0, to change use set_index(index)\n",
      "CPU times: user 7.8 s, sys: 1.73 s, total: 9.53 s\n",
      "Wall time: 4.07 s\n"
     ]
    },
    {
     "name": "stderr",
     "output_type": "stream",
     "text": [
      "\n"
     ]
    }
   ],
   "source": [
    "%%time\n",
    "Dicom_reader = DicomReaderWriter(description='Examples', arg_max=True)\n",
    "print('Estimated 30 seconds, depending on number of cores present in your computer')\n",
    "\n",
    "Dicom_reader.walk_through_folders(DICOM_path)\n"
   ]
  },
  {
   "cell_type": "code",
   "execution_count": 22,
   "metadata": {
    "scrolled": true
   },
   "outputs": [
    {
     "name": "stdout",
     "output_type": "stream",
     "text": [
      "The following ROIs were found\n",
      "gtv1\n",
      "ptv1\n",
      "['gtv1', 'ptv1']\n"
     ]
    }
   ],
   "source": [
    "all_rois = Dicom_reader.return_rois(print_rois=True)  # Return a list of all rois present, and print them\n",
    "print(all_rois)"
   ]
  },
  {
   "cell_type": "code",
   "execution_count": 11,
   "metadata": {},
   "outputs": [
    {
     "name": "stdout",
     "output_type": "stream",
     "text": [
      "Lacking ['l precentral gyrus', 'gtv1', 'ptv1'] in index 0, location /Users/cxl037/PycharmProjects/pythonProject1/Example_Data/Image_Data/1766382/2020-07-23 11_37_42/799 - Perfusion ROIs. Found []\n",
      "Lacking ['l precentral gyrus', 'gtv1', 'ptv1'] in index 1, location /Users/cxl037/PycharmProjects/pythonProject1/Example_Data/Image_Data/1766382/2020-07-23 11_37_42/803 - CBF (color). Found []\n",
      "Lacking ['l precentral gyrus', 'gtv1', 'ptv1'] in index 2, location /Users/cxl037/PycharmProjects/pythonProject1/Example_Data/Image_Data/1766382/2020-07-23 11_37_42/805 - Tmax (color). Found []\n",
      "Lacking ['l precentral gyrus', 'gtv1', 'ptv1'] in index 3, location /Users/cxl037/PycharmProjects/pythonProject1/Example_Data/Image_Data/1766382/2020-07-23 11_37_42/812 - rCBV (corrected). Found []\n",
      "Lacking ['l precentral gyrus', 'gtv1', 'ptv1'] in index 4, location /Users/cxl037/PycharmProjects/pythonProject1/Example_Data/Image_Data/1766382/2020-07-23 11_37_42/802 - rCBV (corrected)(color). Found []\n",
      "Lacking ['l precentral gyrus', 'gtv1', 'ptv1'] in index 5, location /Users/cxl037/PycharmProjects/pythonProject1/Example_Data/Image_Data/1766382/2020-07-23 11_37_42/816 - K2. Found []\n",
      "Lacking ['l precentral gyrus', 'gtv1', 'ptv1'] in index 6, location /Users/cxl037/PycharmProjects/pythonProject1/Example_Data/Image_Data/1766382/2020-07-23 11_37_42/806 - K2 (color). Found []\n",
      "Lacking ['l precentral gyrus', 'gtv1', 'ptv1'] in index 7, location /Users/cxl037/PycharmProjects/pythonProject1/Example_Data/Image_Data/1766382/2020-07-23 11_37_42/800 - Baseline. Found []\n",
      "Lacking ['l precentral gyrus', 'gtv1', 'ptv1'] in index 8, location /Users/cxl037/PycharmProjects/pythonProject1/Example_Data/Image_Data/1766382/2020-07-23 11_37_42/804 - FMT (color). Found []\n",
      "Lacking ['l precentral gyrus', 'gtv1', 'ptv1'] in index 9, location /Users/cxl037/PycharmProjects/pythonProject1/Example_Data/Image_Data/1766382/2020-07-23 11_37_42/1 - 3-Plane Loc SSFSE. Found []\n",
      "Lacking ['l precentral gyrus', 'gtv1', 'ptv1'] in index 10, location /Users/cxl037/PycharmProjects/pythonProject1/Example_Data/Image_Data/1766382/2020-07-23 11_37_42/2 - Sag T1 FLAIR. Found []\n",
      "Lacking ['l precentral gyrus', 'gtv1', 'ptv1'] in index 11, location /Users/cxl037/PycharmProjects/pythonProject1/Example_Data/Image_Data/1766382/2020-07-23 11_37_42/3 - Ax DWI b1000. Found []\n",
      "Lacking ['l precentral gyrus', 'gtv1', 'ptv1'] in index 12, location /Users/cxl037/PycharmProjects/pythonProject1/Example_Data/Image_Data/1766382/2020-07-23 11_37_42/4 - Ax T2 PROPELLER fat. Found []\n",
      "Lacking ['l precentral gyrus', 'gtv1', 'ptv1'] in index 13, location /Users/cxl037/PycharmProjects/pythonProject1/Example_Data/Image_Data/1766382/2020-07-23 11_37_42/5 - Ax T2starmpgre. Found []\n",
      "Lacking ['l precentral gyrus', 'gtv1', 'ptv1'] in index 14, location /Users/cxl037/PycharmProjects/pythonProject1/Example_Data/Image_Data/1766382/2020-07-23 11_37_42/6 - Ax T1 Bravo 2.4mm. Found []\n",
      "Lacking ['l precentral gyrus', 'gtv1', 'ptv1'] in index 15, location /Users/cxl037/PycharmProjects/pythonProject1/Example_Data/Image_Data/1766382/2020-07-23 11_37_42/7 - NeuroQuant Sag 3d. Found []\n",
      "Lacking ['l precentral gyrus', 'gtv1', 'ptv1'] in index 16, location /Users/cxl037/PycharmProjects/pythonProject1/Example_Data/Image_Data/1766382/2020-07-23 11_37_42/8 - TUMOR-Ax PERFUSION. Found []\n",
      "Lacking ['l precentral gyrus', 'gtv1', 'ptv1'] in index 17, location /Users/cxl037/PycharmProjects/pythonProject1/Example_Data/Image_Data/1766382/2020-07-23 11_37_42/9 - +c Sag T2 FLAIR Cube. Found []\n",
      "Lacking ['gtv1', 'ptv1'] in index 18, location /Users/cxl037/PycharmProjects/pythonProject1/Example_Data/Image_Data/1766382/2020-07-23 11_37_42/10 - +c Ax T1 Stealth Bravo. Found ['l precentral gyrus']\n",
      "Lacking ['l precentral gyrus', 'gtv1', 'ptv1'] in index 19, location /Users/cxl037/PycharmProjects/pythonProject1/Example_Data/Image_Data/1766382/2020-07-23 11_37_42/11 - +c COR T1 CUBE VASC. Found []\n",
      "Lacking ['l precentral gyrus', 'gtv1', 'ptv1'] in index 20, location /Users/cxl037/PycharmProjects/pythonProject1/Example_Data/Image_Data/1766382/2020-07-23 11_37_42/350 - ADC (10^-6 mm²_s)_Jul 23 2020 11-45-08 CDT. Found []\n",
      "Lacking ['l precentral gyrus', 'gtv1', 'ptv1'] in index 21, location /Users/cxl037/PycharmProjects/pythonProject1/Example_Data/Image_Data/1766382/2020-07-23 11_37_42/950 - +C COR FLAIR reformat. Found []\n",
      "Lacking ['l precentral gyrus', 'gtv1', 'ptv1'] in index 22, location /Users/cxl037/PycharmProjects/pythonProject1/Example_Data/Image_Data/1766382/2020-07-23 11_37_42/951 - +C AX FLAIR reformat. Found []\n",
      "Lacking ['l precentral gyrus', 'gtv1', 'ptv1'] in index 23, location /Users/cxl037/PycharmProjects/pythonProject1/Example_Data/Image_Data/1766382/2020-07-23 11_37_42/1050 - +c SAG STEALTH Reformat. Found []\n",
      "Lacking ['l precentral gyrus', 'gtv1', 'ptv1'] in index 24, location /Users/cxl037/PycharmProjects/pythonProject1/Example_Data/Image_Data/1766382/2020-07-23 11_37_42/1150 - +C AX T1 Vasc REFORMAT 1.4. Found []\n",
      "Lacking ['l precentral gyrus'] in index 25, location /Users/cxl037/PycharmProjects/pythonProject1/Example_Data/Image_Data/1766382/2018-03-15 08_54_50/4 - SAFIRE 2 STEREO_HEAD_RAD_PLAN/Turner^Nelson/CT/20180315/4. Found ['gtv1', 'ptv1']\n"
     ]
    }
   ],
   "source": [
    "Contour_Names = [roi for roi in all_rois] \n",
    "# Associations work as {'variant_name': 'desired_name'}\n",
    "associations = {roi:roi for roi in all_rois}\n",
    "Dicom_reader.set_contour_names_and_associations(Contour_Names=Contour_Names, associations=associations)"
   ]
  },
  {
   "cell_type": "markdown",
   "metadata": {},
   "source": [
    "As we can see, these ROIs correspond to a variety of structures. In particular, we can see many GBM and glioma structures. Note GBM denotes glioblastoma multiforme (a high grade glioma)."
   ]
  },
  {
   "cell_type": "code",
   "execution_count": null,
   "metadata": {
    "scrolled": true
   },
   "outputs": [],
   "source": [
    "# Print the locations of all RTs with a certain ROI name, automatically lower cased\n",
    "Dicom_reader.where_is_ROI(ROIName='l occipital')"
   ]
  },
  {
   "cell_type": "code",
   "execution_count": null,
   "metadata": {},
   "outputs": [],
   "source": [
    "Dicom_reader.which_indexes_have_all_rois()  # Check to see which indexes have all of the rois we want\n",
    "# Since we haven't defined anything yet, it prompts you to input a list of contour names"
   ]
  },
  {
   "cell_type": "code",
   "execution_count": null,
   "metadata": {},
   "outputs": [],
   "source": [
    "Dicom_reader.which_indexes_lack_all_rois() # Check to see which indexes LACK all of the rois we want\n",
    "# Since we haven't defined any wanted ROI yet, it will prompt you to input a list of contour names"
   ]
  },
  {
   "cell_type": "code",
   "execution_count": null,
   "metadata": {},
   "outputs": [],
   "source": [
    "def get_subject(project, label, update=True, **kwargs):\n",
    "    \"\"\"Get the Subject container if it exists, else create a new Subject container.\n",
    "    \n",
    "    Args:\n",
    "        project (flywheel.Project): A Flywheel Project.\n",
    "        label (str): The subject label.\n",
    "        update (bool): If true, update container with key/value passed as kwargs.\n",
    "        kwargs (dict): Any key/value properties of subject you would like to update.\n",
    "\n",
    "    Returns:\n",
    "        (flywheel.Subject): A Flywheel Subject container.\n",
    "    \"\"\"\n",
    "    \n",
    "    if not label:\n",
    "        raise ValueError(f'label is required (currently {label})')\n",
    "        \n",
    "    subject = project.subjects.find_first('label=\"{}\"'.format(label))\n",
    "    if not subject:\n",
    "        raise ValueError(f'subject {label} is not found')\n",
    "        \n",
    "    if update and kwargs:\n",
    "        subject.update(**kwargs)\n",
    "\n",
    "    if subject:\n",
    "        subject = subject.reload()\n",
    "\n",
    "    return subject"
   ]
  },
  {
   "cell_type": "code",
   "execution_count": null,
   "metadata": {},
   "outputs": [],
   "source": [
    "def get_session(subject, label, update=True, **kwargs):\n",
    "    \"\"\"Get the Session container if it exists, else create a new Session container.\n",
    "    \n",
    "    Args:\n",
    "        subject (flywheel.Subject): A Flywheel Subject.\n",
    "        label (str): The session label.\n",
    "        update (bool): If true, update container with key/value passed as kwargs.        \n",
    "        kwargs (dict): Any key/value properties of Session you would like to update.\n",
    "\n",
    "    Returns:\n",
    "        (flywheel.Session): A flywheel Session container.\n",
    "    \"\"\"\n",
    "    \n",
    "    if not label:\n",
    "        raise ValueError(f'label is required (currently {label})')\n",
    "        \n",
    "    session = subject.sessions.find_first('label=\"{}\"'.format(label))\n",
    "    if not session:\n",
    "        raise ValueError(f'session {label} is not found')\n",
    "        \n",
    "    if update and kwargs:\n",
    "        session.update(**kwargs)\n",
    "\n",
    "    if session:\n",
    "        session = session.reload()\n",
    "\n",
    "    return session"
   ]
  },
  {
   "cell_type": "code",
   "execution_count": null,
   "metadata": {},
   "outputs": [],
   "source": [
    "def get_or_create_acquisition(session, label, update=True, **kwargs):\n",
    "    \"\"\"Get the Acquisition container if it exists, else create a new Acquisition container.\n",
    "    \n",
    "    Args:\n",
    "        session (flywheel.Session): A Flywheel Session.\n",
    "        label (str): The Acquisition label.\n",
    "        update (bool): If true, update container with key/value passed as kwargs.        \n",
    "        kwargs (dict): Any key/value properties of Acquisition you would like to update.\n",
    "\n",
    "    Returns:\n",
    "        (flywheel.Acquisition): A Flywheel Acquisition container.\n",
    "    \"\"\"\n",
    "    \n",
    "    if not label:\n",
    "        raise ValueError(f'label is required (currently {label})')\n",
    "        \n",
    "    acquisition = session.acquisitions.find_first('label=\"{}\"'.format(label))\n",
    "    if not acquisition:\n",
    "        acquisition = session.add_acquisition(label=label)\n",
    "        \n",
    "    if update and kwargs:\n",
    "        acquisition.update(**kwargs)\n",
    "\n",
    "    if acquisition:\n",
    "        acquisition = acquisition.reload()\n",
    "\n",
    "    return acquisition"
   ]
  },
  {
   "cell_type": "code",
   "execution_count": null,
   "metadata": {},
   "outputs": [],
   "source": [
    "def upload_file_to_acquisition(acquisition, fp, update=True, **kwargs):\n",
    "    \"\"\"Upload file to Acquisition container and update info if `update=True`\n",
    "    \n",
    "    Args:\n",
    "        acquisition (flywheel.Acquisition): A Flywheel Acquisition\n",
    "        fp (Path-like): Path to file to upload\n",
    "        update (bool): If true, update container with key/value passed as kwargs.        \n",
    "        kwargs (dict): Any key/value properties of Acquisition you would like to update.        \n",
    "    \"\"\"\n",
    "    basename = os.path.basename(fp)\n",
    "    if not os.path.isfile(fp):\n",
    "        raise ValueError(f'{fp} is not file.')\n",
    "    attempts = 0\n",
    "    \n",
    "    while attempts < 5:\n",
    "        try: \n",
    "            acquisition = acquisition.reload()\n",
    "            if acquisition.get_file(basename):\n",
    "                print('file already exists')\n",
    "                return\n",
    "            else:\n",
    "                print('uploading')\n",
    "                acquisition.upload_file(fp)\n",
    "#                 while not acquistion.get_file(basename):   # to make sure the file is available before performing an update\n",
    "#                     acquistion = acquistion.reload()\n",
    "#                     time.sleep(1)\n",
    "            break\n",
    "        except Exception as e:\n",
    "            print('Error exception caught!')\n",
    "            print(e)\n",
    "            attempts += 1\n",
    "            \n",
    "    if update and kwargs:\n",
    "        f = acquisition.get_file(basename)\n",
    "        f.update(**kwargs)"
   ]
  },
  {
   "cell_type": "markdown",
   "metadata": {},
   "source": [
    "From these ROIs, we will look for those that describe the following regions of interest: tumor (glioblastoma multiforme only) and high-dose area of radiation therapy. "
   ]
  },
  {
   "cell_type": "code",
   "execution_count": 13,
   "metadata": {},
   "outputs": [
    {
     "name": "stdout",
     "output_type": "stream",
     "text": [
      "Lacking ['l precentral gyrus'] in index 0, location /Users/cxl037/PycharmProjects/pythonProject1/Example_Data/Image_Data/1766382/2020-07-23 11_37_42/799 - Perfusion ROIs. Found []\n",
      "Lacking ['l precentral gyrus'] in index 1, location /Users/cxl037/PycharmProjects/pythonProject1/Example_Data/Image_Data/1766382/2020-07-23 11_37_42/803 - CBF (color). Found []\n",
      "Lacking ['l precentral gyrus'] in index 2, location /Users/cxl037/PycharmProjects/pythonProject1/Example_Data/Image_Data/1766382/2020-07-23 11_37_42/805 - Tmax (color). Found []\n",
      "Lacking ['l precentral gyrus'] in index 3, location /Users/cxl037/PycharmProjects/pythonProject1/Example_Data/Image_Data/1766382/2020-07-23 11_37_42/812 - rCBV (corrected). Found []\n",
      "Lacking ['l precentral gyrus'] in index 4, location /Users/cxl037/PycharmProjects/pythonProject1/Example_Data/Image_Data/1766382/2020-07-23 11_37_42/802 - rCBV (corrected)(color). Found []\n",
      "Lacking ['l precentral gyrus'] in index 5, location /Users/cxl037/PycharmProjects/pythonProject1/Example_Data/Image_Data/1766382/2020-07-23 11_37_42/816 - K2. Found []\n",
      "Lacking ['l precentral gyrus'] in index 6, location /Users/cxl037/PycharmProjects/pythonProject1/Example_Data/Image_Data/1766382/2020-07-23 11_37_42/806 - K2 (color). Found []\n",
      "Lacking ['l precentral gyrus'] in index 7, location /Users/cxl037/PycharmProjects/pythonProject1/Example_Data/Image_Data/1766382/2020-07-23 11_37_42/800 - Baseline. Found []\n",
      "Lacking ['l precentral gyrus'] in index 8, location /Users/cxl037/PycharmProjects/pythonProject1/Example_Data/Image_Data/1766382/2020-07-23 11_37_42/804 - FMT (color). Found []\n",
      "Lacking ['l precentral gyrus'] in index 9, location /Users/cxl037/PycharmProjects/pythonProject1/Example_Data/Image_Data/1766382/2020-07-23 11_37_42/1 - 3-Plane Loc SSFSE. Found []\n",
      "Lacking ['l precentral gyrus'] in index 10, location /Users/cxl037/PycharmProjects/pythonProject1/Example_Data/Image_Data/1766382/2020-07-23 11_37_42/2 - Sag T1 FLAIR. Found []\n",
      "Lacking ['l precentral gyrus'] in index 11, location /Users/cxl037/PycharmProjects/pythonProject1/Example_Data/Image_Data/1766382/2020-07-23 11_37_42/3 - Ax DWI b1000. Found []\n",
      "Lacking ['l precentral gyrus'] in index 12, location /Users/cxl037/PycharmProjects/pythonProject1/Example_Data/Image_Data/1766382/2020-07-23 11_37_42/4 - Ax T2 PROPELLER fat. Found []\n",
      "Lacking ['l precentral gyrus'] in index 13, location /Users/cxl037/PycharmProjects/pythonProject1/Example_Data/Image_Data/1766382/2020-07-23 11_37_42/5 - Ax T2starmpgre. Found []\n",
      "Lacking ['l precentral gyrus'] in index 14, location /Users/cxl037/PycharmProjects/pythonProject1/Example_Data/Image_Data/1766382/2020-07-23 11_37_42/6 - Ax T1 Bravo 2.4mm. Found []\n",
      "Lacking ['l precentral gyrus'] in index 15, location /Users/cxl037/PycharmProjects/pythonProject1/Example_Data/Image_Data/1766382/2020-07-23 11_37_42/7 - NeuroQuant Sag 3d. Found []\n",
      "Lacking ['l precentral gyrus'] in index 16, location /Users/cxl037/PycharmProjects/pythonProject1/Example_Data/Image_Data/1766382/2020-07-23 11_37_42/8 - TUMOR-Ax PERFUSION. Found []\n",
      "Lacking ['l precentral gyrus'] in index 17, location /Users/cxl037/PycharmProjects/pythonProject1/Example_Data/Image_Data/1766382/2020-07-23 11_37_42/9 - +c Sag T2 FLAIR Cube. Found []\n",
      "Lacking ['l precentral gyrus'] in index 19, location /Users/cxl037/PycharmProjects/pythonProject1/Example_Data/Image_Data/1766382/2020-07-23 11_37_42/11 - +c COR T1 CUBE VASC. Found []\n",
      "Lacking ['l precentral gyrus'] in index 20, location /Users/cxl037/PycharmProjects/pythonProject1/Example_Data/Image_Data/1766382/2020-07-23 11_37_42/350 - ADC (10^-6 mm²_s)_Jul 23 2020 11-45-08 CDT. Found []\n",
      "Lacking ['l precentral gyrus'] in index 21, location /Users/cxl037/PycharmProjects/pythonProject1/Example_Data/Image_Data/1766382/2020-07-23 11_37_42/950 - +C COR FLAIR reformat. Found []\n",
      "Lacking ['l precentral gyrus'] in index 22, location /Users/cxl037/PycharmProjects/pythonProject1/Example_Data/Image_Data/1766382/2020-07-23 11_37_42/951 - +C AX FLAIR reformat. Found []\n",
      "Lacking ['l precentral gyrus'] in index 23, location /Users/cxl037/PycharmProjects/pythonProject1/Example_Data/Image_Data/1766382/2020-07-23 11_37_42/1050 - +c SAG STEALTH Reformat. Found []\n",
      "Lacking ['l precentral gyrus'] in index 24, location /Users/cxl037/PycharmProjects/pythonProject1/Example_Data/Image_Data/1766382/2020-07-23 11_37_42/1150 - +C AX T1 Vasc REFORMAT 1.4. Found []\n",
      "Lacking ['l precentral gyrus'] in index 25, location /Users/cxl037/PycharmProjects/pythonProject1/Example_Data/Image_Data/1766382/2018-03-15 08_54_50/4 - SAFIRE 2 STEREO_HEAD_RAD_PLAN/Turner^Nelson/CT/20180315/4. Found ['gtv1', 'ptv1']\n",
      "The following indexes have all ROIs present\n",
      "Index 18, located at /Users/cxl037/PycharmProjects/pythonProject1/Example_Data/Image_Data/1766382/2020-07-23 11_37_42/10 - +c Ax T1 Stealth Bravo/Turner^Nelson/MR/20200723/10\n",
      "Finished listing present indexes\n",
      "Loading images for +c Ax T1 Stealth Bravo at \n",
      " /Users/cxl037/PycharmProjects/pythonProject1/Example_Data/Image_Data/1766382/2020-07-23 11_37_42/10 - +c Ax T1 Stealth Bravo/Turner^Nelson/MR/20200723/10\n",
      "\n",
      "+c Ax T1 Stealth Bravo\n",
      "Lacking ['gtv1'] in index 0, location /Users/cxl037/PycharmProjects/pythonProject1/Example_Data/Image_Data/1766382/2020-07-23 11_37_42/799 - Perfusion ROIs. Found []\n",
      "Lacking ['gtv1'] in index 1, location /Users/cxl037/PycharmProjects/pythonProject1/Example_Data/Image_Data/1766382/2020-07-23 11_37_42/803 - CBF (color). Found []\n",
      "Lacking ['gtv1'] in index 2, location /Users/cxl037/PycharmProjects/pythonProject1/Example_Data/Image_Data/1766382/2020-07-23 11_37_42/805 - Tmax (color). Found []\n",
      "Lacking ['gtv1'] in index 3, location /Users/cxl037/PycharmProjects/pythonProject1/Example_Data/Image_Data/1766382/2020-07-23 11_37_42/812 - rCBV (corrected). Found []\n",
      "Lacking ['gtv1'] in index 4, location /Users/cxl037/PycharmProjects/pythonProject1/Example_Data/Image_Data/1766382/2020-07-23 11_37_42/802 - rCBV (corrected)(color). Found []\n",
      "Lacking ['gtv1'] in index 5, location /Users/cxl037/PycharmProjects/pythonProject1/Example_Data/Image_Data/1766382/2020-07-23 11_37_42/816 - K2. Found []\n",
      "Lacking ['gtv1'] in index 6, location /Users/cxl037/PycharmProjects/pythonProject1/Example_Data/Image_Data/1766382/2020-07-23 11_37_42/806 - K2 (color). Found []\n",
      "Lacking ['gtv1'] in index 7, location /Users/cxl037/PycharmProjects/pythonProject1/Example_Data/Image_Data/1766382/2020-07-23 11_37_42/800 - Baseline. Found []\n",
      "Lacking ['gtv1'] in index 8, location /Users/cxl037/PycharmProjects/pythonProject1/Example_Data/Image_Data/1766382/2020-07-23 11_37_42/804 - FMT (color). Found []\n",
      "Lacking ['gtv1'] in index 9, location /Users/cxl037/PycharmProjects/pythonProject1/Example_Data/Image_Data/1766382/2020-07-23 11_37_42/1 - 3-Plane Loc SSFSE. Found []\n",
      "Lacking ['gtv1'] in index 10, location /Users/cxl037/PycharmProjects/pythonProject1/Example_Data/Image_Data/1766382/2020-07-23 11_37_42/2 - Sag T1 FLAIR. Found []\n",
      "Lacking ['gtv1'] in index 11, location /Users/cxl037/PycharmProjects/pythonProject1/Example_Data/Image_Data/1766382/2020-07-23 11_37_42/3 - Ax DWI b1000. Found []\n",
      "Lacking ['gtv1'] in index 12, location /Users/cxl037/PycharmProjects/pythonProject1/Example_Data/Image_Data/1766382/2020-07-23 11_37_42/4 - Ax T2 PROPELLER fat. Found []\n",
      "Lacking ['gtv1'] in index 13, location /Users/cxl037/PycharmProjects/pythonProject1/Example_Data/Image_Data/1766382/2020-07-23 11_37_42/5 - Ax T2starmpgre. Found []\n",
      "Lacking ['gtv1'] in index 14, location /Users/cxl037/PycharmProjects/pythonProject1/Example_Data/Image_Data/1766382/2020-07-23 11_37_42/6 - Ax T1 Bravo 2.4mm. Found []\n",
      "Lacking ['gtv1'] in index 15, location /Users/cxl037/PycharmProjects/pythonProject1/Example_Data/Image_Data/1766382/2020-07-23 11_37_42/7 - NeuroQuant Sag 3d. Found []\n",
      "Lacking ['gtv1'] in index 16, location /Users/cxl037/PycharmProjects/pythonProject1/Example_Data/Image_Data/1766382/2020-07-23 11_37_42/8 - TUMOR-Ax PERFUSION. Found []\n",
      "Lacking ['gtv1'] in index 17, location /Users/cxl037/PycharmProjects/pythonProject1/Example_Data/Image_Data/1766382/2020-07-23 11_37_42/9 - +c Sag T2 FLAIR Cube. Found []\n",
      "Lacking ['gtv1'] in index 18, location /Users/cxl037/PycharmProjects/pythonProject1/Example_Data/Image_Data/1766382/2020-07-23 11_37_42/10 - +c Ax T1 Stealth Bravo/Turner^Nelson/MR/20200723/10. Found ['l precentral gyrus']\n",
      "Lacking ['gtv1'] in index 19, location /Users/cxl037/PycharmProjects/pythonProject1/Example_Data/Image_Data/1766382/2020-07-23 11_37_42/11 - +c COR T1 CUBE VASC. Found []\n",
      "Lacking ['gtv1'] in index 20, location /Users/cxl037/PycharmProjects/pythonProject1/Example_Data/Image_Data/1766382/2020-07-23 11_37_42/350 - ADC (10^-6 mm²_s)_Jul 23 2020 11-45-08 CDT. Found []\n",
      "Lacking ['gtv1'] in index 21, location /Users/cxl037/PycharmProjects/pythonProject1/Example_Data/Image_Data/1766382/2020-07-23 11_37_42/950 - +C COR FLAIR reformat. Found []\n",
      "Lacking ['gtv1'] in index 22, location /Users/cxl037/PycharmProjects/pythonProject1/Example_Data/Image_Data/1766382/2020-07-23 11_37_42/951 - +C AX FLAIR reformat. Found []\n",
      "Lacking ['gtv1'] in index 23, location /Users/cxl037/PycharmProjects/pythonProject1/Example_Data/Image_Data/1766382/2020-07-23 11_37_42/1050 - +c SAG STEALTH Reformat. Found []\n",
      "Lacking ['gtv1'] in index 24, location /Users/cxl037/PycharmProjects/pythonProject1/Example_Data/Image_Data/1766382/2020-07-23 11_37_42/1150 - +C AX T1 Vasc REFORMAT 1.4. Found []\n",
      "The following indexes have all ROIs present\n",
      "Index 25, located at /Users/cxl037/PycharmProjects/pythonProject1/Example_Data/Image_Data/1766382/2018-03-15 08_54_50/4 - SAFIRE 2 STEREO_HEAD_RAD_PLAN/Turner^Nelson/CT/20180315/4\n",
      "Finished listing present indexes\n",
      "Loading images for SAFIRE 2 STEREO_HEAD_RAD_PLAN  at \n",
      " /Users/cxl037/PycharmProjects/pythonProject1/Example_Data/Image_Data/1766382/2018-03-15 08_54_50/4 - SAFIRE 2 STEREO_HEAD_RAD_PLAN/Turner^Nelson/CT/20180315/4\n",
      "\n"
     ]
    },
    {
     "name": "stdout",
     "output_type": "stream",
     "text": [
      "SAFIRE 2 STEREO_HEAD_RAD_PLAN \n",
      "Lacking ['ptv1'] in index 0, location /Users/cxl037/PycharmProjects/pythonProject1/Example_Data/Image_Data/1766382/2020-07-23 11_37_42/799 - Perfusion ROIs. Found []\n",
      "Lacking ['ptv1'] in index 1, location /Users/cxl037/PycharmProjects/pythonProject1/Example_Data/Image_Data/1766382/2020-07-23 11_37_42/803 - CBF (color). Found []\n",
      "Lacking ['ptv1'] in index 2, location /Users/cxl037/PycharmProjects/pythonProject1/Example_Data/Image_Data/1766382/2020-07-23 11_37_42/805 - Tmax (color). Found []\n",
      "Lacking ['ptv1'] in index 3, location /Users/cxl037/PycharmProjects/pythonProject1/Example_Data/Image_Data/1766382/2020-07-23 11_37_42/812 - rCBV (corrected). Found []\n",
      "Lacking ['ptv1'] in index 4, location /Users/cxl037/PycharmProjects/pythonProject1/Example_Data/Image_Data/1766382/2020-07-23 11_37_42/802 - rCBV (corrected)(color). Found []\n",
      "Lacking ['ptv1'] in index 5, location /Users/cxl037/PycharmProjects/pythonProject1/Example_Data/Image_Data/1766382/2020-07-23 11_37_42/816 - K2. Found []\n",
      "Lacking ['ptv1'] in index 6, location /Users/cxl037/PycharmProjects/pythonProject1/Example_Data/Image_Data/1766382/2020-07-23 11_37_42/806 - K2 (color). Found []\n",
      "Lacking ['ptv1'] in index 7, location /Users/cxl037/PycharmProjects/pythonProject1/Example_Data/Image_Data/1766382/2020-07-23 11_37_42/800 - Baseline. Found []\n",
      "Lacking ['ptv1'] in index 8, location /Users/cxl037/PycharmProjects/pythonProject1/Example_Data/Image_Data/1766382/2020-07-23 11_37_42/804 - FMT (color). Found []\n",
      "Lacking ['ptv1'] in index 9, location /Users/cxl037/PycharmProjects/pythonProject1/Example_Data/Image_Data/1766382/2020-07-23 11_37_42/1 - 3-Plane Loc SSFSE. Found []\n",
      "Lacking ['ptv1'] in index 10, location /Users/cxl037/PycharmProjects/pythonProject1/Example_Data/Image_Data/1766382/2020-07-23 11_37_42/2 - Sag T1 FLAIR. Found []\n",
      "Lacking ['ptv1'] in index 11, location /Users/cxl037/PycharmProjects/pythonProject1/Example_Data/Image_Data/1766382/2020-07-23 11_37_42/3 - Ax DWI b1000. Found []\n",
      "Lacking ['ptv1'] in index 12, location /Users/cxl037/PycharmProjects/pythonProject1/Example_Data/Image_Data/1766382/2020-07-23 11_37_42/4 - Ax T2 PROPELLER fat. Found []\n",
      "Lacking ['ptv1'] in index 13, location /Users/cxl037/PycharmProjects/pythonProject1/Example_Data/Image_Data/1766382/2020-07-23 11_37_42/5 - Ax T2starmpgre. Found []\n",
      "Lacking ['ptv1'] in index 14, location /Users/cxl037/PycharmProjects/pythonProject1/Example_Data/Image_Data/1766382/2020-07-23 11_37_42/6 - Ax T1 Bravo 2.4mm. Found []\n",
      "Lacking ['ptv1'] in index 15, location /Users/cxl037/PycharmProjects/pythonProject1/Example_Data/Image_Data/1766382/2020-07-23 11_37_42/7 - NeuroQuant Sag 3d. Found []\n",
      "Lacking ['ptv1'] in index 16, location /Users/cxl037/PycharmProjects/pythonProject1/Example_Data/Image_Data/1766382/2020-07-23 11_37_42/8 - TUMOR-Ax PERFUSION. Found []\n",
      "Lacking ['ptv1'] in index 17, location /Users/cxl037/PycharmProjects/pythonProject1/Example_Data/Image_Data/1766382/2020-07-23 11_37_42/9 - +c Sag T2 FLAIR Cube. Found []\n",
      "Lacking ['ptv1'] in index 18, location /Users/cxl037/PycharmProjects/pythonProject1/Example_Data/Image_Data/1766382/2020-07-23 11_37_42/10 - +c Ax T1 Stealth Bravo/Turner^Nelson/MR/20200723/10. Found ['l precentral gyrus']\n",
      "Lacking ['ptv1'] in index 19, location /Users/cxl037/PycharmProjects/pythonProject1/Example_Data/Image_Data/1766382/2020-07-23 11_37_42/11 - +c COR T1 CUBE VASC. Found []\n",
      "Lacking ['ptv1'] in index 20, location /Users/cxl037/PycharmProjects/pythonProject1/Example_Data/Image_Data/1766382/2020-07-23 11_37_42/350 - ADC (10^-6 mm²_s)_Jul 23 2020 11-45-08 CDT. Found []\n",
      "Lacking ['ptv1'] in index 21, location /Users/cxl037/PycharmProjects/pythonProject1/Example_Data/Image_Data/1766382/2020-07-23 11_37_42/950 - +C COR FLAIR reformat. Found []\n",
      "Lacking ['ptv1'] in index 22, location /Users/cxl037/PycharmProjects/pythonProject1/Example_Data/Image_Data/1766382/2020-07-23 11_37_42/951 - +C AX FLAIR reformat. Found []\n",
      "Lacking ['ptv1'] in index 23, location /Users/cxl037/PycharmProjects/pythonProject1/Example_Data/Image_Data/1766382/2020-07-23 11_37_42/1050 - +c SAG STEALTH Reformat. Found []\n",
      "Lacking ['ptv1'] in index 24, location /Users/cxl037/PycharmProjects/pythonProject1/Example_Data/Image_Data/1766382/2020-07-23 11_37_42/1150 - +C AX T1 Vasc REFORMAT 1.4. Found []\n",
      "The following indexes have all ROIs present\n",
      "Index 25, located at /Users/cxl037/PycharmProjects/pythonProject1/Example_Data/Image_Data/1766382/2018-03-15 08_54_50/4 - SAFIRE 2 STEREO_HEAD_RAD_PLAN/Turner^Nelson/CT/20180315/4\n",
      "Finished listing present indexes\n",
      "SAFIRE 2 STEREO_HEAD_RAD_PLAN \n"
     ]
    }
   ],
   "source": [
    "nifti_path = '/Users/cxl037/PycharmProjects/pythonProject1/Example_Data/Nifti_Data'\n",
    "for roi in all_rois:\n",
    "    Contour_Names = [roi] \n",
    "    # Associations work as {'variant_name': 'desired_name'}\n",
    "    associations = {roi:roi}\n",
    "    Dicom_reader.set_contour_names_and_associations(Contour_Names=Contour_Names, associations=associations)\n",
    "    indexes = Dicom_reader.which_indexes_have_all_rois()\n",
    "    pt_indx = indexes[0]\n",
    "    Dicom_reader.set_index(pt_indx)\n",
    "    Dicom_reader.get_images_and_mask()\n",
    "    print(Dicom_reader.series_instances_dictionary[pt_indx]['Description'])\n",
    "    dicom_sitk_handle = Dicom_reader.dicom_handle # SimpleITK image handle\n",
    "    mask_sitk_handle = Dicom_reader.annotation_handle # SimpleITK mask handle\n",
    "    \n",
    "#     image_nifti_path = os.path.join(nifti_path, '{}_{}_Image.nii'.format('1766382', roi))\n",
    "#     mask_nifti_path = os.path.join(nifti_path, '{}_{}_Mask.nii'.format('1766382', roi))\n",
    "#     sitk.WriteImage(dicom_sitk_handle, image_nifti_path)\n",
    "#     sitk.WriteImage(mask_sitk_handle, mask_nifti_path)\n",
    "    \n",
    "#     subject = get_subject(fw_project, '2628744')\n",
    "#     session = get_session(subject, '2011-08-24 06_42_00')\n",
    "#     acquisition = get_or_create_acquisition(session, 'Extracted ROIs')\n",
    "#     upload_file_to_acquisition(acquisition, image_nifti_path)\n",
    "#     upload_file_to_acquisition(acquisition, mask_nifti_path)\n",
    "    "
   ]
  },
  {
   "cell_type": "code",
   "execution_count": null,
   "metadata": {},
   "outputs": [],
   "source": [
    "import ants"
   ]
  },
  {
   "cell_type": "code",
   "execution_count": null,
   "metadata": {},
   "outputs": [],
   "source": [
    "firstfile = '/Users/cxl037/PycharmProjects/pythonProject1/Example_Data/Nifti_Data/Pinzer_Kaye_L.nii'\n",
    "secondfile = '/Users/cxl037/PycharmProjects/pythonProject1/Example_Data/Nifti_Data/+c_T2_CUBE_FLAIR_Sag_8.nii'\n",
    "thirdfile = '/Users/cxl037/PycharmProjects/pythonProject1/Example_Data/Nifti_Data/+c_Cor_T1_Cube_10.nii'\n",
    "fixed=ants.image_read(firstfile)\n",
    "moving=ants.image_read(secondfile)\n",
    "moving2=ants.image_read(thirdfile)"
   ]
  },
  {
   "cell_type": "code",
   "execution_count": null,
   "metadata": {},
   "outputs": [],
   "source": [
    "ants.plot(fixed, axis = 2)"
   ]
  },
  {
   "cell_type": "code",
   "execution_count": null,
   "metadata": {},
   "outputs": [],
   "source": [
    "ants.plot(moving, axis = 0)"
   ]
  },
  {
   "cell_type": "code",
   "execution_count": null,
   "metadata": {},
   "outputs": [],
   "source": [
    "ants.plot(moving2, axis = 1)"
   ]
  },
  {
   "cell_type": "code",
   "execution_count": null,
   "metadata": {},
   "outputs": [],
   "source": [
    "reg12 = ants.registration(fixed=fixed, moving=moving, type_of_transform='Similarity')\n",
    "reg13 = ants.registration(fixed=fixed, moving=moving2, type_of_transform='Similarity')\n",
    "#mytx = reg13[ 'fwdtransforms'] + reg12[ 'fwdtransforms'] \n",
    "mytx = reg13[ 'fwdtransforms']"
   ]
  },
  {
   "cell_type": "code",
   "execution_count": null,
   "metadata": {},
   "outputs": [],
   "source": [
    "test = ants.apply_transform(fixed = fixed, moving = )"
   ]
  },
  {
   "cell_type": "code",
   "execution_count": null,
   "metadata": {},
   "outputs": [],
   "source": [
    "test = ants.registration(fixed=fixed, moving=moving, type_of_transform='Similarity')\n"
   ]
  },
  {
   "cell_type": "code",
   "execution_count": null,
   "metadata": {},
   "outputs": [],
   "source": [
    "test1 = test['warpedmovout']"
   ]
  },
  {
   "cell_type": "code",
   "execution_count": null,
   "metadata": {},
   "outputs": [],
   "source": [
    "ants.plot(mytx, axis = 2)"
   ]
  },
  {
   "cell_type": "code",
   "execution_count": null,
   "metadata": {
    "scrolled": true
   },
   "outputs": [],
   "source": [
    "Dicom_reader.set_contour_names_and_associations(Contour_Names=Contour_Names, associations=associations)"
   ]
  },
  {
   "cell_type": "markdown",
   "metadata": {},
   "source": [
    "Note: The module is printing \"Found []\" because many of the scans (post-1 and post-2 RT) do not have associated structure files. The module recognizes these images exist (unique UIDs) but associated structure files cannot be located for them."
   ]
  },
  {
   "cell_type": "code",
   "execution_count": null,
   "metadata": {},
   "outputs": [],
   "source": [
    "indexes = Dicom_reader.which_indexes_have_all_rois()  # Check to see which indexes have all of the rois we want, now we can see indexes"
   ]
  },
  {
   "cell_type": "code",
   "execution_count": null,
   "metadata": {},
   "outputs": [],
   "source": [
    "pt_indx = indexes[-1]\n",
    "Dicom_reader.set_index(pt_indx)  # This index has all the structures, corresponds to pre-RT T1-w image for patient 011\n",
    "Dicom_reader.get_images_and_mask()  # Load up the images and mask for the requested index"
   ]
  },
  {
   "cell_type": "code",
   "execution_count": null,
   "metadata": {},
   "outputs": [],
   "source": [
    "image = Dicom_reader.ArrayDicom # image array\n",
    "mask = Dicom_reader.mask # mask array\n",
    "dicom_sitk_handle = Dicom_reader.dicom_handle # SimpleITK image handle\n",
    "mask_sitk_handle = Dicom_reader.annotation_handle # SimpleITK mask handle"
   ]
  },
  {
   "cell_type": "code",
   "execution_count": null,
   "metadata": {
    "scrolled": true
   },
   "outputs": [],
   "source": [
    "n_slices_skip = 2\n",
    "display_slices(image, mask, skip = n_slices_skip) # visualize that our segmentations were succesfully convereted "
   ]
  },
  {
   "cell_type": "markdown",
   "metadata": {},
   "source": [
    "Note: Cyan color denotes tumor while magenta denotes surrounding area of high-dose radiation. Only displaying 7 slices."
   ]
  },
  {
   "cell_type": "markdown",
   "metadata": {},
   "source": [
    "## Part 3: Saving arrays to nifti format. <a name=\"NIFTI\"></a>\n",
    "\n",
    "If you want to use a manual approach, you can view the nifti files easily after running get_images_and_mask(). Saving files as nifti is advisable since spacing information is preserved."
   ]
  },
  {
   "cell_type": "code",
   "execution_count": null,
   "metadata": {},
   "outputs": [],
   "source": [
    "nifti_path = '/Users/cxl037/PycharmProjects/pythonProject1/Example_Data/Nifti_Data' # nifti subfolder \n",
    "if not os.path.exists(nifti_path):\n",
    "    os.makedirs(nifti_path)"
   ]
  },
  {
   "cell_type": "code",
   "execution_count": null,
   "metadata": {},
   "outputs": [],
   "source": [
    "dicom_sitk_handle = Dicom_reader.dicom_handle # SimpleITK image handle\n",
    "mask_sitk_handle = Dicom_reader.annotation_handle # SimpleITK mask handle\n",
    "sitk.WriteImage(dicom_sitk_handle, os.path.join(nifti_path, 'Image.nii'))\n",
    "sitk.WriteImage(mask_sitk_handle, os.path.join(nifti_path, 'Mask.nii'))"
   ]
  },
  {
   "cell_type": "markdown",
   "metadata": {},
   "source": [
    "One can also use the built in .write_parallel attribute to generate nifti files for all relevant pairs the DicomReaderWriter object has found/generated. In this case there are 9 image/mask pairs for unique UIDs that contain all contours we are interested in. Note a corresponding log excel file in the specified output path. The nifti files are written in the following format: \"Overall_Data_{description}_ {iteration}.nii.gz\" (image) or \"Overall_mask_{description}_ y{iteration}.nii.gz\" (mask)."
   ]
  },
  {
   "cell_type": "code",
   "execution_count": null,
   "metadata": {
    "scrolled": true
   },
   "outputs": [],
   "source": [
    "%%time\n",
    "%%capture\n",
    "Dicom_reader.write_parallel(out_path = nifti_path, excel_file = os.path.join(nifti_path,'.','MRN_Path_To_Iteration.xlsx'))"
   ]
  },
  {
   "cell_type": "markdown",
   "metadata": {},
   "source": [
    "We can now reload the nifti files and disaply them to check that nothing went wrong. You can inspect the other converted files by changing the numerical suffix as per the excel log file ('MRN_Path_To_Iteration.xlsx')."
   ]
  },
  {
   "cell_type": "code",
   "execution_count": null,
   "metadata": {},
   "outputs": [],
   "source": [
    "nifti_image = sitk.ReadImage(os.path.join(nifti_path,'Image.nii')) # reload image\n",
    "image = sitk.GetArrayFromImage(nifti_image)\n",
    "nifti_mask = sitk.ReadImage(os.path.join(nifti_path,'Mask.nii')) # reload mask\n",
    "mask = sitk.GetArrayFromImage(nifti_mask)"
   ]
  },
  {
   "cell_type": "code",
   "execution_count": null,
   "metadata": {},
   "outputs": [],
   "source": [
    "display_slices(image, mask, skip = n_slices_skip) # visualize that our segmentations were succesfully convereted from nifti "
   ]
  },
  {
   "cell_type": "markdown",
   "metadata": {},
   "source": [
    "## Part 4: Saving and loading numpy files for later use. <a name=\"NUMPY\"></a>\n",
    "\n",
    "Finally we can save the numpy arrays themselves to files for later use (so you don't have to reinstantiate the computationally expensive DicomReaderWriter object) and subsequently re-load the numpy arrays."
   ]
  },
  {
   "cell_type": "code",
   "execution_count": null,
   "metadata": {},
   "outputs": [],
   "source": [
    "numpy_path = '/Users/cxl037/PycharmProjects/pythonProject1/Example_Data/Numpy_Data' # go into numpy subfolder \n",
    "if not os.path.exists(numpy_path):\n",
    "    os.makedirs(numpy_path)"
   ]
  },
  {
   "cell_type": "code",
   "execution_count": null,
   "metadata": {},
   "outputs": [],
   "source": [
    "np.save(os.path.join(numpy_path, 'image'), image) # save the arrays\n",
    "np.save(os.path.join(numpy_path, 'mask'), mask)"
   ]
  },
  {
   "cell_type": "code",
   "execution_count": null,
   "metadata": {},
   "outputs": [],
   "source": [
    "image = np.load(os.path.join(numpy_path,'image.npy')) # load the arrays\n",
    "mask = np.load(os.path.join(numpy_path,'mask.npy'))"
   ]
  },
  {
   "cell_type": "markdown",
   "metadata": {},
   "source": [
    "## Part 5: Radiomics Use-case Example. <a name=\"RADIOMICS\"></a>\n",
    "\n",
    "Here we use the popular open-source radiomics library PyRadiomics (https://pyradiomics.readthedocs.io/en/latest/) to calculate radiomic features for our ROIs. In this case, we only calculate a limited number features from the tumor as an illustrative example. "
   ]
  },
  {
   "cell_type": "code",
   "execution_count": null,
   "metadata": {},
   "outputs": [],
   "source": [
    "try:\n",
    "    from radiomics import featureextractor\n",
    "except:\n",
    "    !pip install pyradiomics\n",
    "    from radiomics import featureextractor"
   ]
  },
  {
   "cell_type": "code",
   "execution_count": null,
   "metadata": {},
   "outputs": [],
   "source": [
    "pd.set_option('display.max_columns', None) # show all columns"
   ]
  },
  {
   "cell_type": "code",
   "execution_count": null,
   "metadata": {},
   "outputs": [],
   "source": [
    "%%time\n",
    "# note: need sitk images (sitk.ReadImage(nifti file)) to plug into PyRadiomics, preserves spacing \n",
    "\n",
    "ROI_index = 1 # index for tumor\n",
    "nifti_mask_tumor = sitk.BinaryThreshold(nifti_mask, lowerThreshold=ROI_index, upperThreshold=ROI_index) # select only ROI of interest\n",
    "\n",
    "params = {} # can edit in more params as neccessary \n",
    "extractor = featureextractor.RadiomicsFeatureExtractor(**params) # instantiate extractor with parameters \n",
    "extractor.disableAllFeatures() # in case where only want some features, can delete disable/enable lines if you want deafult\n",
    "extractor.enableFeatureClassByName('firstorder') \n",
    "extractor.enableFeatureClassByName('glcm') \n",
    "features = {} # empty dictionary \n",
    "features = extractor.execute(nifti_image, nifti_mask_tumor) # unpack results into features dictionary\n",
    "df = pd.DataFrame({k: [v] for k, v in features.items()}) # put dictionary into a dataframe "
   ]
  },
  {
   "cell_type": "code",
   "execution_count": null,
   "metadata": {
    "scrolled": true
   },
   "outputs": [],
   "source": [
    "df # display dataframe to inspect features "
   ]
  },
  {
   "cell_type": "markdown",
   "metadata": {},
   "source": [
    "Numerical results for radiomic features shown here are consistent with importing nifti files as image and label map in 3D Slicer (https://www.slicer.org/) and using Radiomics extension (https://www.slicer.org/wiki/Documentation/Nightly/Extensions/Radiomics)."
   ]
  },
  {
   "cell_type": "markdown",
   "metadata": {},
   "source": [
    "## Part 6: Predictions To RT-Structure Example <a name=\"RTSTRUCTURE\"></a>\n",
    "\n",
    "Here we will provide a simple example for converting a predicted NumPy array of a square into a Dicom RT-Structure file"
   ]
  },
  {
   "cell_type": "code",
   "execution_count": null,
   "metadata": {},
   "outputs": [],
   "source": [
    "RT_path = os.path.join('Example_Data', 'RT_Structures')\n",
    "if not os.path.exists(RT_path):\n",
    "    os.makedirs(RT_path)"
   ]
  },
  {
   "cell_type": "markdown",
   "metadata": {},
   "source": [
    "First, we will create a fake prediction, it will be the same size as the image NumPy array"
   ]
  },
  {
   "cell_type": "code",
   "execution_count": null,
   "metadata": {},
   "outputs": [],
   "source": [
    "image = Dicom_reader.ArrayDicom"
   ]
  },
  {
   "cell_type": "markdown",
   "metadata": {},
   "source": [
    "Now, deep learning model typically create segmentations in the format of (z_images, rows, cols, # of classes) "
   ]
  },
  {
   "cell_type": "code",
   "execution_count": null,
   "metadata": {},
   "outputs": [],
   "source": [
    "def create_circular_mask(h, w, center=None, radius=None):\n",
    "\n",
    "    if center is None: # use the middle of the image\n",
    "        center = (int(w/2), int(h/2))\n",
    "    if radius is None: # use the smallest distance between the center and image walls\n",
    "        radius = min(center[0], center[1], w-center[0], h-center[1])\n",
    "\n",
    "    Y, X = np.ogrid[:h, :w]\n",
    "    dist_from_center = np.sqrt((X - center[0])**2 + (Y-center[1])**2)\n",
    "\n",
    "    mask = dist_from_center <= radius\n",
    "    return mask"
   ]
  },
  {
   "cell_type": "code",
   "execution_count": null,
   "metadata": {},
   "outputs": [],
   "source": [
    "predictions = np.zeros(image.shape + (4,))  # Four classes: background, square, circle, target\n",
    "predictions.shape\n",
    "predictions[75:80, 250:350, 100:200, 1] = 1  # Here we are drawing a square\n",
    "predictions[75:80, 250:350, 300:400, 2] += create_circular_mask(100, 100, center=None, radius=50).astype('int')\n",
    "predictions[75:80, 100:200, 200:300, 3] += create_circular_mask(100, 100, center=None, radius=50).astype('int')\n",
    "predictions[75:80, 100:200, 200:300, 3] -= create_circular_mask(100, 100, center=None, radius=33).astype('int')\n",
    "predictions[75:80, 100:200, 200:300, 3] += create_circular_mask(100, 100, center=None, radius=15).astype('int')"
   ]
  },
  {
   "cell_type": "code",
   "execution_count": null,
   "metadata": {
    "scrolled": true
   },
   "outputs": [],
   "source": [
    "display_slices(image, np.argmax(predictions, axis=-1), skip = 1) # visualize our square on the image"
   ]
  },
  {
   "cell_type": "markdown",
   "metadata": {},
   "source": [
    "Convert the NumPy arrays into RT-Structure"
   ]
  },
  {
   "cell_type": "code",
   "execution_count": null,
   "metadata": {},
   "outputs": [],
   "source": [
    "Dicom_reader.prediction_array_to_RT(prediction_array=predictions, output_dir=RT_path,\n",
    "                                    ROI_Names=['square', 'circle', 'target'])"
   ]
  },
  {
   "cell_type": "markdown",
   "metadata": {},
   "source": [
    "# Final notes\n",
    "\n",
    "### I hope that this code has been useful, if you have any suggestions or problems, please open an issue ticket or merge request on the Github: https://github.com/brianmanderson/Dicom_RT_and_Images_to_Mask\n",
    "\n",
    "#### Thank you!"
   ]
  },
  {
   "cell_type": "code",
   "execution_count": null,
   "metadata": {},
   "outputs": [],
   "source": []
  }
 ],
 "metadata": {
  "kernelspec": {
   "display_name": "Python 3 (ipykernel)",
   "language": "python",
   "name": "python3"
  },
  "language_info": {
   "codemirror_mode": {
    "name": "ipython",
    "version": 3
   },
   "file_extension": ".py",
   "mimetype": "text/x-python",
   "name": "python",
   "nbconvert_exporter": "python",
   "pygments_lexer": "ipython3",
   "version": "3.9.10"
  }
 },
 "nbformat": 4,
 "nbformat_minor": 4
}
