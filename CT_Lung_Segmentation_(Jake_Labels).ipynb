{
  "nbformat": 4,
  "nbformat_minor": 0,
  "metadata": {
    "colab": {
      "name": "CT_Lung_Segmentation_(Jake Labels).ipynb",
      "provenance": [],
      "collapsed_sections": []
    },
    "kernelspec": {
      "display_name": "Python 3",
      "name": "python3"
    },
    "language_info": {
      "name": "python"
    },
    "accelerator": "GPU"
  },
  "cells": [
    {
      "cell_type": "code",
      "metadata": {
        "colab": {
          "base_uri": "https://localhost:8080/"
        },
        "id": "LoKnEf8gNmDG",
        "outputId": "631d1dd0-e734-4093-a3c0-121147111f79"
      },
      "source": [
        "from google.colab import drive\n",
        "drive.mount('/content/drive', force_remount=True)"
      ],
      "execution_count": 3,
      "outputs": [
        {
          "output_type": "stream",
          "name": "stdout",
          "text": [
            "Mounted at /content/drive\n"
          ]
        }
      ]
    },
    {
      "cell_type": "code",
      "metadata": {
        "id": "AyCNYochsIFx"
      },
      "source": [
        "import nibabel as nib\n",
        "import numpy as np\n",
        "import os\n",
        "import random"
      ],
      "execution_count": 4,
      "outputs": []
    },
    {
      "cell_type": "code",
      "metadata": {
        "colab": {
          "base_uri": "https://localhost:8080/"
        },
        "id": "jUKuA76GsI4w",
        "outputId": "ff381507-a519-453e-c5ce-7db959723061"
      },
      "source": [
        "path_to_images='/content/drive/My Drive/MIMRTL Lab/BOX Segmentations'\n",
        "subject_paths = [i.path for i in os.scandir(path_to_images) if i.is_dir()]\n",
        "\n",
        "#randomize order\n",
        "random.seed(1)\n",
        "random.shuffle(subject_paths)\n",
        "print(subject_paths)\n",
        "\n",
        "#which subjects should be validation \n",
        "#(note: careful not to include a subject's images in both train and validation)\n",
        "validation_subjects = [0, 1, 2, 3]"
      ],
      "execution_count": 6,
      "outputs": [
        {
          "output_type": "stream",
          "name": "stdout",
          "text": [
            "['/content/drive/My Drive/MIMRTL Lab/BOX Segmentations/Patient 27', '/content/drive/My Drive/MIMRTL Lab/BOX Segmentations/Patient 115', '/content/drive/My Drive/MIMRTL Lab/BOX Segmentations/Patient 95', '/content/drive/My Drive/MIMRTL Lab/BOX Segmentations/Patient 96', '/content/drive/My Drive/MIMRTL Lab/BOX Segmentations/Patient 23', '/content/drive/My Drive/MIMRTL Lab/BOX Segmentations/Patient 101', '/content/drive/My Drive/MIMRTL Lab/BOX Segmentations/Patient 94', '/content/drive/My Drive/MIMRTL Lab/BOX Segmentations/Patient 102', '/content/drive/My Drive/MIMRTL Lab/BOX Segmentations/Patient 92', '/content/drive/My Drive/MIMRTL Lab/BOX Segmentations/Patient 116', '/content/drive/My Drive/MIMRTL Lab/BOX Segmentations/Patient 26', '/content/drive/My Drive/MIMRTL Lab/BOX Segmentations/Patient 84', '/content/drive/My Drive/MIMRTL Lab/BOX Segmentations/Patient 87', '/content/drive/My Drive/MIMRTL Lab/BOX Segmentations/Patient 83', '/content/drive/My Drive/MIMRTL Lab/BOX Segmentations/Patient 117', '/content/drive/My Drive/MIMRTL Lab/BOX Segmentations/Patient 108', '/content/drive/My Drive/MIMRTL Lab/BOX Segmentations/Patient 127', '/content/drive/My Drive/MIMRTL Lab/BOX Segmentations/Patient 105', '/content/drive/My Drive/MIMRTL Lab/BOX Segmentations/Patient 114']\n"
          ]
        }
      ]
    },
    {
      "cell_type": "code",
      "metadata": {
        "colab": {
          "base_uri": "https://localhost:8080/"
        },
        "id": "d3KbBz9m0wXU",
        "outputId": "ad46349c-42e1-413e-a2c6-da1e71a396c6"
      },
      "source": [
        "#use CV2 to resample the images\n",
        "from cv2 import resize, INTER_LINEAR, INTER_NEAREST\n",
        "\n",
        "resample_dims = 128\n",
        "\n",
        "#initialize arrays (can erase later, but probably doesn't matter)\n",
        "train_images = np.zeros((1,resample_dims, resample_dims,1))\n",
        "train_masks =  np.zeros((1,resample_dims, resample_dims,1))\n",
        "val_images = np.zeros((1,resample_dims, resample_dims,1))\n",
        "val_masks = np.zeros((1,resample_dims, resample_dims,1))\n",
        "\n",
        "#loop through, loading each subject's data\n",
        "for i,subject in enumerate(subject_paths):\n",
        "\n",
        "  #read a subject's stack of 2D images and stack of 2D masks, resize\n",
        "  # https://chadrick-kwag.net/cv2-resize-interpolation-methods/\n",
        "  image_stack = nib.load(subject + '/volume.nii.gz').get_fdata()\n",
        "  image_stack_i = np.zeros((resample_dims, resample_dims, image_stack.shape[2]))\n",
        "\n",
        "  #resize images\n",
        "  for idx in range(image_stack.shape[2]):\n",
        "    img = image_stack[:, :, idx]\n",
        "    image_stack_i[:, :, idx] = resize(img, (resample_dims, resample_dims), interpolation=INTER_LINEAR)\n",
        "\n",
        "  mask_stack = nib.load(subject + '/Segmentation.nii.gz').get_fdata()\n",
        "  mask_stack_i = np.zeros((resample_dims, resample_dims, mask_stack.shape[2]))\n",
        "\n",
        "  #resize masks\n",
        "  for idx in range(mask_stack.shape[2]):\n",
        "    mask = mask_stack[:, :, idx]\n",
        "    mask_stack_i[:, :, idx] = resize(mask, (resample_dims, resample_dims), interpolation=INTER_NEAREST)\n",
        "  \n",
        "  #round masks to the nearest whole number (because mask numbers are not exactly whole numbers)\n",
        "  mask_stack_i = np.around(mask_stack_i)\n",
        "\n",
        "  #Normalize the data\n",
        "  image_stack_i[image_stack_i < -1000] = -1000\n",
        "  image_stack_i[image_stack_i > 3000] = 3000\n",
        "  image_stack_i = (image_stack_i + 1000) / 4000.0\n",
        "\n",
        "  #mask to segment: 1=liver, 2=bladder, 3=lungs\n",
        "  mask = 1;\n",
        "  mask_stack_i[mask_stack_i != mask] = 0\n",
        "  mask_stack_i[mask_stack_i == mask] = 1\n",
        "  \n",
        "  #rearrange the data from (x_dim, y_dim, samples) into (samples, x_dim, y_dim)\n",
        "  #https://numpy.org/doc/stable/reference/generated/numpy.moveaxis.html \n",
        "  print(image_stack_i.shape) \n",
        "  image_stack_i = np.moveaxis(image_stack_i, 2,0)\n",
        "  mask_stack_i = np.moveaxis(mask_stack_i, 2,0)\n",
        "\n",
        "  #this adds the channels dimension (may seem strange, but it is needed)\n",
        "  #https://stackoverflow.com/questions/29241056/how-does-numpy-newaxis-work-and-when-to-use-it\n",
        "  image_stack_i = image_stack_i[:,:,:,np.newaxis]\n",
        "  mask_stack_i = mask_stack_i[:,:,:,np.newaxis]\n",
        "\n",
        "  #add images and masks, split into training and validation\n",
        "  if i in validation_subjects:\n",
        "    val_images = np.concatenate((val_images, image_stack_i), axis=0) \n",
        "    val_masks = np.concatenate((val_masks, mask_stack_i), axis=0)\n",
        "  else:\n",
        "    train_images = np.concatenate((train_images, image_stack_i), axis=0) \n",
        "    train_masks = np.concatenate((train_masks, mask_stack_i), axis=0)"
      ],
      "execution_count": null,
      "outputs": [
        {
          "output_type": "stream",
          "name": "stdout",
          "text": [
            "(128, 128, 861)\n",
            "(128, 128, 846)\n",
            "(128, 128, 841)\n",
            "(128, 128, 722)\n",
            "(128, 128, 391)\n",
            "(128, 128, 683)\n",
            "(128, 128, 917)\n",
            "(128, 128, 677)\n",
            "(128, 128, 836)\n",
            "(128, 128, 908)\n",
            "(128, 128, 668)\n",
            "(128, 128, 733)\n",
            "(128, 128, 896)\n"
          ]
        }
      ]
    },
    {
      "cell_type": "code",
      "metadata": {
        "id": "U4UmA095F3Ew"
      },
      "source": [
        "from keras_preprocessing.image import ImageDataGenerator\n",
        "batch_size = 32  \n",
        "seed = 3\n",
        "\n",
        "\"\"\"Augmentation on the dataset\n",
        "Examples: https://www.analyticsvidhya.com/blog/2020/08/image-augmentation-on-the-fly-using-keras-imagedatagenerator/\n",
        "https://github.com/kmjohnson3/ML4MI_BootCamp/blob/master/ImageModalityDetector/MRI_Modality_Detection_SOLUTION.ipynb\n",
        "\"\"\"\n",
        "\n",
        "# Arguments for augmentation\n",
        "datagen_args = dict(rotation_range=10,  # rotation\n",
        "                                   shear_range=5, # distortion\n",
        "                                   width_shift_range=0.2,  # horizontal shift\n",
        "                                   height_shift_range=0.2, # vertical shift\n",
        "                                   zoom_range=0.2, # zoom\n",
        "                                   fill_mode = 'nearest')  # zoom\n",
        "\n",
        "\n",
        "image_datagen = ImageDataGenerator(**datagen_args)\n",
        "mask_datagen = ImageDataGenerator(**datagen_args)\n",
        "\n",
        "def combine_generator(gen1, gen2):\n",
        "    while True:\n",
        "        yield(next(gen1), next(gen2))\n",
        "\n",
        "def load_data(train):\n",
        "  image_generator = image_datagen.flow(train_images[train,:,:,:], batch_size=batch_size, seed=seed, shuffle=True)\n",
        "  mask_generator = mask_datagen.flow(train_masks[train,:,:,:], batch_size=batch_size, seed=seed, shuffle=True)\n",
        "  return combine_generator(image_generator, mask_generator)"
      ],
      "execution_count": null,
      "outputs": []
    },
    {
      "cell_type": "code",
      "metadata": {
        "id": "8k5ix5Sy1XLX",
        "colab": {
          "base_uri": "https://localhost:8080/"
        },
        "outputId": "7f669fe1-0d0c-4f2d-9e1f-33733305ebdd"
      },
      "source": [
        "print('Size of input images: ' + str(train_images.shape))\n",
        "print('Size of input masks: ' + str(train_masks.shape))\n",
        "print('Size of validation images: ' + str(val_images.shape))\n",
        "print('Size of validation masks: ' + str(val_masks.shape))"
      ],
      "execution_count": null,
      "outputs": [
        {
          "output_type": "stream",
          "name": "stdout",
          "text": [
            "Size of input images: (3096, 128, 128, 1)\n",
            "Size of input masks: (3096, 128, 128, 1)\n",
            "Size of validation images: (519, 128, 128, 1)\n",
            "Size of validation masks: (519, 128, 128, 1)\n"
          ]
        }
      ]
    },
    {
      "cell_type": "code",
      "metadata": {
        "id": "MK70H7c-1a0X",
        "colab": {
          "base_uri": "https://localhost:8080/",
          "height": 347
        },
        "outputId": "43aba22b-ee89-4f24-d1f5-1a768b272906"
      },
      "source": [
        "from matplotlib import pyplot as plt\n",
        "# set plotting to be in-line\n",
        "%matplotlib inline\n",
        "\n",
        "#view random slice, concatenating the image and mask next to each other\n",
        "random_slice = random.randint(0,train_images.shape[0])\n",
        "fig = plt.figure(figsize=(10,10))\n",
        "unique, counts = np.unique(train_masks[random_slice,:,:,0], return_counts=True)\n",
        "print(dict(zip(unique, counts)))\n",
        "# np.concatenate: https://www.sharpsightlabs.com/blog/numpy-concatenate/\n",
        "plt.imshow(np.concatenate((300*train_images[random_slice,:,:,0], 150*train_masks[random_slice,:,:,0]),axis=1), cmap='gray')\n",
        "plt.show()\n"
      ],
      "execution_count": null,
      "outputs": [
        {
          "output_type": "stream",
          "name": "stdout",
          "text": [
            "{0.0: 16384}\n"
          ]
        },
        {
          "output_type": "display_data",
          "data": {
            "image/png": "[encoded data removed]",
            "text/plain": [
              "<Figure size 720x720 with 1 Axes>"
            ]
          },
          "metadata": {
            "needs_background": "light"
          }
        }
      ]
    },
    {
      "cell_type": "code",
      "metadata": {
        "id": "Pt8kEDNknrY3"
      },
      "source": [
        "from tensorflow.keras.layers import Input\n",
        "from tensorflow.keras.layers import Conv2D\n",
        "from tensorflow.keras.layers import MaxPooling2D\n",
        "from tensorflow.keras.layers import UpSampling2D\n",
        "from tensorflow.keras.layers import concatenate\n",
        "from tensorflow.keras.regularizers import l2\n",
        "\n",
        "# also, import the Model function for building the model\n",
        "from tensorflow.keras import Model"
      ],
      "execution_count": null,
      "outputs": []
    },
    {
      "cell_type": "code",
      "metadata": {
        "id": "9Lvcu6Xx4Ezl"
      },
      "source": [
        "# Dice loss function\n",
        "from tensorflow.keras import optimizers\n",
        "import tensorflow.keras.backend as K\n",
        "def dicecoef_loss(y_true, y_pred):\n",
        "    y_true_f = K.flatten(y_true)\n",
        "    y_pred_f = K.flatten(y_pred)\n",
        "    intersection = K.sum(y_true_f * y_pred_f)\n",
        "    \n",
        "    dice = (2. * intersection + 1e-5)/(K.sum(y_true_f) + K.sum(y_pred_f) + 1e-5)\n",
        "    # We have calculated the dice coefficient, but we want to maximize it. \n",
        "    # Model fitting tries to minimize the loss so we simply return 1-dice\n",
        "    return 1-dice"
      ],
      "execution_count": null,
      "outputs": []
    },
    {
      "cell_type": "code",
      "metadata": {
        "id": "oGZoMsb3nsPC"
      },
      "source": [
        "def create_model():\n",
        "  # create our input layer by giving it an input shape\n",
        "  # https://www.tensorflow.org/api_docs/python/tf/keras/Input\n",
        "  input_layer = Input(shape=train_images.shape[1:])\n",
        "\n",
        "  #level 1\n",
        "  conv1_en = Conv2D(8, 3, activation = 'relu', padding = 'same')(input_layer)\n",
        "  pool1_en = MaxPooling2D(pool_size=(2, 2))(conv1_en)\n",
        "  #level 2\n",
        "  conv2_en = Conv2D(16, 3, activation = 'relu', padding = 'same')(pool1_en)\n",
        "  pool2_en = MaxPooling2D(pool_size=(2, 2))(conv2_en)\n",
        "  #level 3\n",
        "  conv3_en = Conv2D(32, 3, activation = 'relu', padding = 'same')(pool2_en)\n",
        "  pool3_en = MaxPooling2D(pool_size=(2, 2))(conv3_en)\n",
        "  #level 4\n",
        "  conv4_en = Conv2D(64, 3, activation = 'relu', padding = 'same')(pool3_en)\n",
        "  pool4_en = MaxPooling2D(pool_size=(2, 2))(conv4_en)\n",
        "\n",
        "  #bottom level\n",
        "  conv_bottom = Conv2D(64, 3, activation = 'relu', padding = 'same')(pool4_en)\n",
        "\n",
        "  #level 4 - DECODER\n",
        "  # https://www.tensorflow.org/api_docs/python/tf/keras/layers/UpSampling2D\n",
        "\n",
        "  up4_dec = UpSampling2D(size = (2,2))(conv_bottom)\n",
        "  conv4_dec = concatenate([conv4_en,up4_dec])\n",
        "  conv4_dec = Conv2D(64, 3, activation = 'relu', padding = 'same')(conv4_dec)\n",
        "  #level 3 - DECODER\n",
        "  up3_dec = UpSampling2D(size = (2,2))(conv4_dec)\n",
        "  conv3_dec = concatenate([conv3_en,up3_dec])\n",
        "  conv3_dec = Conv2D(32, 3, activation = 'relu', padding = 'same')(conv3_dec)\n",
        "  #level 2 - DECODER\n",
        "  up2_dec = UpSampling2D(size = (2,2))(conv3_dec)\n",
        "  conv2_dec = concatenate([conv2_en,up2_dec])\n",
        "  conv2_dec = Conv2D(16, 3, activation = 'relu', padding = 'same')(conv2_dec)\n",
        "  #level 1 - DECODER\n",
        "  up1_dec = UpSampling2D(size = (2,2))(conv2_dec)\n",
        "  conv1_dec = concatenate([conv1_en,up1_dec])\n",
        "  conv1_dec = Conv2D(8, 3, activation = 'relu', padding = 'same')(conv1_dec)\n",
        "\n",
        "  #output level\n",
        "  conv_out = Conv2D(8, 3, activation = 'relu', padding = 'same')(conv1_dec)\n",
        "  conv_out = Conv2D(1, 3, activation = 'sigmoid', padding='same')(conv_out)\n",
        "\n",
        "  #define inputs/outpus\n",
        "  # https://www.tensorflow.org/api_docs/python/tf/keras/Model\n",
        "  unet = Model(inputs = input_layer, outputs = conv_out)\n",
        "  unet.compile(loss=dicecoef_loss,optimizer=optimizers.Adam(learning_rate=1e-4))\n",
        "  return unet"
      ],
      "execution_count": null,
      "outputs": []
    },
    {
      "cell_type": "code",
      "metadata": {
        "id": "ON6O39BVr20C"
      },
      "source": [
        "import pandas as pd\n",
        "def run_stats(mask):\n",
        "  mean = []\n",
        "  std = []\n",
        "  for i in range(mask.shape[0]):\n",
        "    mean.append(np.mean(mask[i,:,:,0]))\n",
        "    std.append(np.std(mask[i,:,:,0]))\n",
        "  dic = {'mean' : mean, 'std': std}\n",
        "  return dic"
      ],
      "execution_count": null,
      "outputs": []
    },
    {
      "cell_type": "code",
      "metadata": {
        "id": "J45bYsB6C1oB",
        "colab": {
          "base_uri": "https://localhost:8080/"
        },
        "outputId": "ce3f2824-02cb-461c-bd1a-a10a8237428b"
      },
      "source": [
        "# Initialize variables\n",
        "batch_size = 32\n",
        "epochs = 30\n",
        "allStats = []\n",
        "n = 10\n",
        "\n",
        "# Implement KFold with n splits\n",
        "from sklearn.model_selection import KFold\n",
        "kf = KFold(n_splits=n, shuffle=True)\n",
        "\n",
        "# Run the model on each fold\n",
        "for i, (train, test) in enumerate(kf.split(train_images, train_masks)):\n",
        "    print (\"Running Fold\", i+1, \"/\", n)\n",
        "    # generator for image and mask\n",
        "    combinedGenerator = load_data(train)\n",
        "\n",
        "    # reset model\n",
        "    unet = None\n",
        "\n",
        "    # create model\n",
        "    unet = create_model()\n",
        "\n",
        "    # run model\n",
        "    history = unet.fit(combinedGenerator,\n",
        "                  epochs=epochs,\n",
        "                  steps_per_epoch=train.shape[0] // batch_size,\n",
        "                  validation_data=(train_images[test,:,:,:], train_masks[test,:,:,:]),\n",
        "                  verbose=1)\n",
        "\n",
        "    # run evaluations\n",
        "    score = unet.evaluate(val_images, val_masks, verbose = 1)\n",
        "    print('Test loss: ', score)\n",
        "\n",
        "    # run predictions\n",
        "    predictions = unet.predict(val_images, verbose = 1)\n",
        "    dic = run_stats(predictions)\n",
        "    dic['Test loss'] = score\n",
        "\n",
        "    # run stats\n",
        "    allStats.append(dic)"
      ],
      "execution_count": null,
      "outputs": [
        {
          "output_type": "stream",
          "name": "stdout",
          "text": [
            "Running Fold 1 / 10\n",
            "Epoch 1/30\n",
            "87/87 [==============================] - 43s 136ms/step - loss: 0.9422 - val_loss: 0.8618\n",
            "Epoch 2/30\n",
            "87/87 [==============================] - 12s 129ms/step - loss: 0.7478 - val_loss: 0.6504\n",
            "Epoch 3/30\n",
            "87/87 [==============================] - 11s 129ms/step - loss: 0.5710 - val_loss: 0.5308\n",
            "Epoch 4/30\n",
            "87/87 [==============================] - 11s 128ms/step - loss: 0.4926 - val_loss: 0.4787\n",
            "Epoch 5/30\n",
            "87/87 [==============================] - 11s 128ms/step - loss: 0.3951 - val_loss: 0.4427\n",
            "Epoch 6/30\n",
            "87/87 [==============================] - 11s 127ms/step - loss: 0.3464 - val_loss: 0.3895\n",
            "Epoch 7/30\n",
            "87/87 [==============================] - 11s 129ms/step - loss: 0.3005 - val_loss: 0.3225\n",
            "Epoch 8/30\n",
            "87/87 [==============================] - 11s 128ms/step - loss: 0.2763 - val_loss: 0.2970\n",
            "Epoch 9/30\n",
            "87/87 [==============================] - 11s 127ms/step - loss: 0.2668 - val_loss: 0.2617\n",
            "Epoch 10/30\n",
            "87/87 [==============================] - 11s 127ms/step - loss: 0.2743 - val_loss: 0.2521\n",
            "Epoch 11/30\n",
            "87/87 [==============================] - 11s 128ms/step - loss: 0.2516 - val_loss: 0.4026\n",
            "Epoch 12/30\n",
            "87/87 [==============================] - 11s 129ms/step - loss: 0.2389 - val_loss: 0.2544\n",
            "Epoch 13/30\n",
            "87/87 [==============================] - 11s 129ms/step - loss: 0.2447 - val_loss: 0.2711\n",
            "Epoch 14/30\n",
            "87/87 [==============================] - 11s 127ms/step - loss: 0.2395 - val_loss: 0.2479\n",
            "Epoch 15/30\n",
            "87/87 [==============================] - 11s 129ms/step - loss: 0.2317 - val_loss: 0.2523\n",
            "Epoch 16/30\n",
            "87/87 [==============================] - 11s 127ms/step - loss: 0.2338 - val_loss: 0.2395\n",
            "Epoch 17/30\n",
            "87/87 [==============================] - 11s 128ms/step - loss: 0.2152 - val_loss: 0.2308\n",
            "Epoch 18/30\n",
            "87/87 [==============================] - 11s 128ms/step - loss: 0.2127 - val_loss: 0.2347\n",
            "Epoch 19/30\n",
            "87/87 [==============================] - 11s 128ms/step - loss: 0.2034 - val_loss: 0.2754\n",
            "Epoch 20/30\n",
            "87/87 [==============================] - 11s 128ms/step - loss: 0.2015 - val_loss: 0.2259\n",
            "Epoch 21/30\n",
            "87/87 [==============================] - 11s 129ms/step - loss: 0.2154 - val_loss: 0.2177\n",
            "Epoch 22/30\n",
            "87/87 [==============================] - 11s 127ms/step - loss: 0.2038 - val_loss: 0.2566\n",
            "Epoch 23/30\n",
            "87/87 [==============================] - 11s 129ms/step - loss: 0.1941 - val_loss: 0.2372\n",
            "Epoch 24/30\n",
            "87/87 [==============================] - 11s 129ms/step - loss: 0.1984 - val_loss: 0.2346\n",
            "Epoch 25/30\n",
            "87/87 [==============================] - 11s 127ms/step - loss: 0.2040 - val_loss: 0.2171\n",
            "Epoch 26/30\n",
            "87/87 [==============================] - 11s 128ms/step - loss: 0.1945 - val_loss: 0.1990\n",
            "Epoch 27/30\n",
            "87/87 [==============================] - 11s 128ms/step - loss: 0.1842 - val_loss: 0.2290\n",
            "Epoch 28/30\n",
            "87/87 [==============================] - 11s 127ms/step - loss: 0.2052 - val_loss: 0.2074\n",
            "Epoch 29/30\n",
            "87/87 [==============================] - 11s 126ms/step - loss: 0.1800 - val_loss: 0.2007\n",
            "Epoch 30/30\n",
            "87/87 [==============================] - 11s 128ms/step - loss: 0.1822 - val_loss: 0.2120\n",
            "17/17 [==============================] - 1s 48ms/step - loss: 0.6611\n",
            "Test loss:  0.6611092686653137\n",
            "17/17 [==============================] - 1s 23ms/step\n",
            "Running Fold 2 / 10\n",
            "Epoch 1/30\n",
            "87/87 [==============================] - 12s 132ms/step - loss: 0.9445 - val_loss: 0.8714\n",
            "Epoch 2/30\n",
            "87/87 [==============================] - 11s 131ms/step - loss: 0.7346 - val_loss: 0.7425\n",
            "Epoch 3/30\n",
            "87/87 [==============================] - 11s 129ms/step - loss: 0.6571 - val_loss: 0.6522\n",
            "Epoch 4/30\n",
            "87/87 [==============================] - 11s 128ms/step - loss: 0.5961 - val_loss: 0.6025\n",
            "Epoch 5/30\n",
            "87/87 [==============================] - 11s 128ms/step - loss: 0.5561 - val_loss: 0.5492\n",
            "Epoch 6/30\n",
            "87/87 [==============================] - 11s 129ms/step - loss: 0.5039 - val_loss: 0.4687\n",
            "Epoch 7/30\n",
            "87/87 [==============================] - 11s 130ms/step - loss: 0.4822 - val_loss: 0.5082\n",
            "Epoch 8/30\n",
            "87/87 [==============================] - 11s 130ms/step - loss: 0.4501 - val_loss: 0.4306\n",
            "Epoch 9/30\n",
            "87/87 [==============================] - 11s 128ms/step - loss: 0.4321 - val_loss: 0.3766\n",
            "Epoch 10/30\n",
            "87/87 [==============================] - 11s 128ms/step - loss: 0.2718 - val_loss: 0.2122\n",
            "Epoch 11/30\n",
            "87/87 [==============================] - 11s 128ms/step - loss: 0.2267 - val_loss: 0.2032\n",
            "Epoch 12/30\n",
            "85/87 [============================>.] - ETA: 0s - loss: 0.2067"
          ]
        }
      ]
    },
    {
      "cell_type": "code",
      "metadata": {
        "id": "vFZjEbPVHSt9"
      },
      "source": [
        "allSplits = {}\n",
        "for i in range(10):\n",
        "  dic = allStats[i]\n",
        "  splitstr = \"Split \" + str(i+1)\n",
        "  allSplits[splitstr] = dic\n",
        "df = pd.DataFrame(allSplits)\n",
        "df.to_csv('/content/drive/My Drive/MIMRTL Lab/Andymask1.csv', index=False)"
      ],
      "execution_count": null,
      "outputs": []
    },
    {
      "cell_type": "code",
      "metadata": {
        "id": "YOHhP5S0D0Km"
      },
      "source": [
        "for history in allHistory:\n",
        "  # Plot the losses that are stored in the 'hist' variable\n",
        "  plt.figure(figsize=(10,10));\n",
        "  plt.plot(history.epoch,history.history['loss'],'b-s')\n",
        "  plt.plot(history.epoch,history.history['val_loss'],'r-s')\n",
        "  plt.legend(['Training Loss',\n",
        "            ' Validation Loss'])\n",
        "  plt.xlabel('Epochs')\n",
        "  plt.ylabel('Dice Coefficient')\n",
        "plt.show()"
      ],
      "execution_count": null,
      "outputs": []
    },
    {
      "cell_type": "code",
      "metadata": {
        "id": "HkUgrqT9y8r7"
      },
      "source": [
        "mean = np.mean(allLoss)\n",
        "std = np.std(allLoss)\n",
        "print(\"Mean test score across all folds: \", mean)\n",
        "print(\"Standard deviation of test score across all folds: \", std)"
      ],
      "execution_count": null,
      "outputs": []
    },
    {
      "cell_type": "code",
      "metadata": {
        "id": "QpDjSaNHEMzL"
      },
      "source": [
        "\n",
        "#show random images with the predicted results\n",
        "random_slice = random.randint(0,train_images.shape[0] - 1)\n",
        "fig = plt.figure(figsize=(10,10))\n",
        "im_slice = train_images[random_slice,:,:,0]\n",
        "\n",
        "# Prediction on Validation Set\n",
        "true_mask_slice = train_masks[random_slice,:,:,0]\n",
        "\n",
        "# Returning pixel value counts in true mask and predicted mask\n",
        "unique, counts = np.unique(true_mask_slice, return_counts=True)\n",
        "print(dict(zip(unique, counts)))\n",
        "pred_mask_slice = predictions[random_slice,:,:,0]\n",
        "unique, counts = np.unique(np.round(pred_mask_slice), return_counts=True)\n",
        "print(dict(zip(unique, counts)))\n",
        "\n",
        "\"\"\" Prediction on Training Set\n",
        "true_mask_slice = train_masks[random_slice,:,:,0]\n",
        "unique, counts = np.unique(true_mask_slice, return_counts=True)\n",
        "print(dict(zip(unique, counts)))\n",
        "pred_mask_slice = predictionsTrain[random_slice,:,:,0]\n",
        "unique, counts = np.unique(np.round(pred_mask_slice), return_counts=True)\n",
        "print(dict(zip(unique, counts)))\n",
        "print(\"Min Max for Actual Mask\", np.min(true_mask_slice), np.max(true_mask_slice))\n",
        "print(\"Min Max for Predicted Mask\", np.min(pred_mask_slice), np.max(pred_mask_slice))\n",
        "\"\"\"\n",
        "\n",
        "# https://numpy.org/doc/stable/reference/generated/numpy.c_.html\n",
        "plt.imshow(np.c_[300 * im_slice, 300* true_mask_slice, 300 * np.round(pred_mask_slice)], cmap='gray')\n",
        "plt.show()"
      ],
      "execution_count": null,
      "outputs": []
    }
  ]
}